{
 "cells": [
  {
   "cell_type": "markdown",
   "metadata": {
    "slideshow": {
     "slide_type": "skip"
    }
   },
   "source": [
    "<table>\n",
    " <tr align=left><td><img align=left src=\"./images/CC-BY.png\">\n",
    " <td>Text provided under a Creative Commons Attribution license, CC-BY. All code is made available under the FSF-approved MIT license. (c) Kyle T. Mandli</td>\n",
    "</table>"
   ]
  },
  {
   "cell_type": "code",
   "execution_count": null,
   "metadata": {
    "slideshow": {
     "slide_type": "skip"
    }
   },
   "outputs": [],
   "source": [
    "from __future__ import print_function\n",
    "\n",
    "%matplotlib inline\n",
    "\n",
    "import numpy\n",
    "import matplotlib.pyplot as plt\n",
    "import matplotlib.animation\n",
    "\n",
    "from IPython.display import HTML\n",
    "from clawpack import pyclaw\n",
    "from clawpack import riemann"
   ]
  },
  {
   "cell_type": "markdown",
   "metadata": {
    "slideshow": {
     "slide_type": "slide"
    }
   },
   "source": [
    "# Nonlinear Systems of Conservation Laws"
   ]
  },
  {
   "cell_type": "markdown",
   "metadata": {
    "slideshow": {
     "slide_type": "subslide"
    }
   },
   "source": [
    "We now turn to problems that are nonlinear and a system of equations.  This theory will combine ideas from both linear systems and nonlinear scalar equations.  In general this theory will split a single discontinuity into $m$ waves where $m$ is the number of equations.\n",
    "\n",
    "This theory will presented primarily in the context of the 1-dimensional shallow water equations so that we can look at a concrete example."
   ]
  },
  {
   "cell_type": "markdown",
   "metadata": {
    "slideshow": {
     "slide_type": "slide"
    }
   },
   "source": [
    "## Shallow Water\n",
    "\n",
    "The shallow water equations can most directly be derived from the invicid Navier-Stokes equations defined by\n",
    "$$\\begin{aligned}\n",
    "    &u_x + w_z = 0 & & \\text{incompressibility} \\\\\n",
    "    &u_t + (u^2)_x + (uw)_z = -\\frac{1}{\\rho} P_x & & \\text{x-momentum} \\\\\n",
    "    &u_t + (u^2)_x + (uw)_z = -\\frac{1}{\\rho} P_z - g & & \\text{z-momentum}\n",
    "\\end{aligned}$$\n",
    "along with the boundary conditions\n",
    "$$\n",
    "    \\left \\{ \\begin{aligned}\n",
    "        &w = \\eta_t + u \\eta_x \\\\\n",
    "        &P = P_a\n",
    "    \\end{aligned} \\right . \\quad \\quad z = \\eta\n",
    "$$\n",
    "and\n",
    "$$\n",
    "    w = ub_x \\quad z = b\n",
    "$$"
   ]
  },
  {
   "cell_type": "markdown",
   "metadata": {
    "slideshow": {
     "slide_type": "subslide"
    }
   },
   "source": [
    "### Non-Dimensionalization\n",
    "\n",
    "Since the shallow water equations are based on a scaling with respect to \"shallowness\" we will descibe that exansion but reintroduce a dimsional version in closing.\n",
    "\n",
    "To non-dimensionalize these equations we use the following scalings:\n",
    "$$\n",
    "    \\frac{x}{\\lambda} = \\widetilde{x} \\quad \\quad \\frac{z}{a} = \\widetilde{z} \\quad \\quad \\frac{t}{T} = \\widetilde{t}\\\\\n",
    "    \\frac{u}{U} = \\widetilde{u} \\quad \\quad \\frac{w}{W} = \\widetilde{w} \\quad \\quad \\frac{P}{P_0} = \\widetilde{P}\n",
    "$$\n",
    "Using these scalings we can then define\n",
    "$$\n",
    "    \\epsilon = \\frac{a}{\\lambda} \\quad \\quad U = \\sqrt{ga} \\quad \\quad W = \\epsilon U \\quad \\quad T = \\frac{\\lambda}{U}\n",
    "$$\n",
    "where $\\epsilon$ the shallow water parameter relating wave-length to depth and $g$ is gravitational acceleration."
   ]
  },
  {
   "cell_type": "markdown",
   "metadata": {
    "slideshow": {
     "slide_type": "subslide"
    }
   },
   "source": [
    "$$\n",
    "    \\frac{x}{\\lambda} = \\widetilde{x} \\quad \\quad \\frac{z}{a} = \\widetilde{z} \\quad \\quad \\frac{t}{T} = \\widetilde{t}\\\\\n",
    "    \\frac{u}{U} = \\widetilde{u} \\quad \\quad \\frac{w}{W} = \\widetilde{w} \\quad \\quad \\frac{P}{P_0} = \\widetilde{P} \\\\\n",
    "    \\epsilon = \\frac{a}{\\lambda} \\quad \\quad U = \\sqrt{ga} \\quad \\quad W = \\epsilon U \\quad \\quad T = \\frac{\\lambda}{U}\n",
    "$$\n",
    "Applying the scalings above we can transform the incompressibility equation to\n",
    "$$\n",
    "\\begin{aligned}\n",
    "    &u_x + w_z = 0 \\Rightarrow \\\\\n",
    "    &\\frac{U}{\\lambda} \\widetilde{u}_{\\widetilde{x}} + \\frac{W}{a} \\widetilde{w}_{\\widetilde{z}} = 0 \\Rightarrow \\\\\n",
    "    &\\widetilde{u}_{\\widetilde{x}} + \\frac{\\epsilon U \\lambda}{a U} \\widetilde{w}_{\\widetilde{z}} = 0 \\Rightarrow \\\\\n",
    "    &\\widetilde{u}_{\\widetilde{x}} + \\widetilde{w}_{\\widetilde{z}} = 0.\n",
    "\\end{aligned}\n",
    "$$"
   ]
  },
  {
   "cell_type": "markdown",
   "metadata": {
    "slideshow": {
     "slide_type": "subslide"
    }
   },
   "source": [
    "$$\n",
    "    \\frac{x}{\\lambda} = \\widetilde{x} \\quad \\quad \\frac{z}{a} = \\widetilde{z} \\quad \\quad \\frac{t}{T} = \\widetilde{t}\\\\\n",
    "    \\frac{u}{U} = \\widetilde{u} \\quad \\quad \\frac{w}{W} = \\widetilde{w} \\quad \\quad \\frac{P}{P_0} = \\widetilde{P} \\\\\n",
    "    \\epsilon = \\frac{a}{\\lambda} \\quad \\quad U = \\sqrt{ga} \\quad \\quad W = \\epsilon U \\quad \\quad T = \\frac{\\lambda}{U}\n",
    "$$\n",
    "Applying the scalings again we can transform the x-momentum equation to\n",
    "$$\\begin{aligned}\n",
    "    &u_t + (u^2)_x + (uw)_z = -\\frac{1}{\\rho} P_x \\Rightarrow \\\\\n",
    "    &\\frac{U}{T} \\widetilde{u}_{\\widetilde{t}} + \\frac{U^2}{\\lambda} (\\widetilde{u}^2)_{\\widetilde{x}} + \\frac{UW}{a} (\\widetilde{u}\\widetilde{w})_{\\widetilde{z}} = -\\frac{P_0}{\\rho \\lambda} \\widetilde{P}_{\\widetilde{x}} \\Rightarrow \\\\\n",
    "    &\\tilde{u}_{\\widetilde{t}} + \\frac{UT}{\\lambda} (\\widetilde{u}^2)_{\\widetilde{x}} + \\frac{TW}{a} (\\widetilde{u}\\widetilde{w})_{\\widetilde{z}} = -\\frac{TP_0}{\\rho \\lambda U} \\widetilde{P}_{\\widetilde{x}} \\Rightarrow \\\\\n",
    "    &\\tilde{u}_{\\tilde{t}} + (\\tilde{u}^2)_{\\tilde{x}} + (\\widetilde{u}\\widetilde{w})_{\\widetilde{z}} = -\\frac{P_0}{\\rho U^2} \\widetilde{P}_{\\widetilde{x}} \n",
    "\\end{aligned}$$\n",
    "If we now use the scaling $\\frac{P_0}{\\rho U^2} = 1$ then we arrive at the appropriate non-dimensional x-momentum PDE:\n",
    "$$\n",
    "    \\widetilde{u}_{\\widetilde{t}} + (\\widetilde{u}^2)_{\\widetilde{x}} + (\\widetilde{u}\\widetilde{w})_{\\widetilde{z}} = -\\widetilde{P}_{\\widetilde{x}} \n",
    "$$"
   ]
  },
  {
   "cell_type": "markdown",
   "metadata": {
    "slideshow": {
     "slide_type": "subslide"
    }
   },
   "source": [
    "$$\n",
    "    \\frac{x}{\\lambda} = \\widetilde{x} \\quad \\quad \\frac{z}{a} = \\widetilde{z} \\quad \\quad \\frac{t}{T} = \\widetilde{t}\\\\\n",
    "    \\frac{u}{U} = \\widetilde{u} \\quad \\quad \\frac{w}{W} = \\widetilde{w} \\quad \\quad \\frac{P}{P_0} = \\widetilde{P} \\\\\n",
    "    \\epsilon = \\frac{a}{\\lambda} \\quad \\quad U = \\sqrt{ga} \\quad \\quad W = \\epsilon U \\quad \\quad T = \\frac{\\lambda}{U}\n",
    "$$\n",
    "Finally applying the same procedure to the z-momentum equations we have\n",
    "$$\\begin{aligned}\n",
    "    &w_t + (uw)_x + (w^2)_z = -\\frac{1}{\\rho} P_z - g \\Rightarrow \\\\\n",
    "    &\\frac{W}{T}\\widetilde{w}_{\\widetilde{t}} + \\frac{UW}{\\lambda}(\\widetilde{u}\\widetilde{w})_{\\widetilde{x}} + \\frac{W^2}{a}(\\widetilde{w}^2)_{\\widetilde{z}} = -\\frac{P_0}{\\rho a} \\widetilde{P}_{\\widetilde{z}} - g \\Rightarrow \\\\\n",
    "    &\\widetilde{w}_{\\widetilde{t}} + \\frac{UT}{\\lambda}(\\widetilde{u}\\widetilde{w})_{\\widetilde{x}} + \\frac{WT}{a}(\\widetilde{w}^2)_{\\widetilde{z}} = -\\frac{T}{W} \\left (\\frac{P_0}{\\rho a} \\widetilde{P}_{\\tilde{z}} + g \\right ) \\Rightarrow \\\\\n",
    "    &\\widetilde{w}_{\\widetilde{t}} + (\\widetilde{u}\\widetilde{w})_{\\widetilde{x}} + (\\widetilde{w}^2)_{\\widetilde{z}} = -\\frac{\\lambda}{\\epsilon U^2} \\left (\\frac{P_0}{\\rho a} \\widetilde{P}_{\\widetilde{z}} + g \\right ) \\Rightarrow \\\\\n",
    "    &\\widetilde{w}_{\\widetilde{t}} + (\\widetilde{u}\\widetilde{w})_{\\widetilde{x}} + (\\widetilde{w}^2)_{\\widetilde{z}} = -\\frac{1}{g \\epsilon^2} \\left (g \\widetilde{P}_{\\widetilde{z}} + g \\right ) \\Rightarrow \\\\\n",
    "    &\\epsilon^2 \\left (\\widetilde{w}_{\\widetilde{t}} + (\\widetilde{u}\\widetilde{w})_{\\widetilde{x}} + (\\widetilde{w}^2)_{\\widetilde{z}} \\right )= - \\widetilde{P}_{\\widetilde{z}} - g\n",
    "\\end{aligned}\n",
    "$$"
   ]
  },
  {
   "cell_type": "markdown",
   "metadata": {
    "slideshow": {
     "slide_type": "subslide"
    }
   },
   "source": [
    "For the boundary conditions we also need to introduce these scalings along with $\\frac{\\eta}{\\delta} = \\widetilde{\\eta}$ and $\\frac{b}{\\beta} = \\widetilde{b}$:\n",
    "$$\\begin{aligned}\n",
    "    &w = \\eta_t + u \\eta_x \\Rightarrow \\\\\n",
    "    &\\epsilon U \\widetilde{w} = \\frac{\\delta U}{\\lambda} \\widetilde{\\eta}_{\\widetilde{t}} + \\frac{U\\delta}{\\lambda} \\widetilde{u} \\widetilde{\\eta}_{\\widetilde{x}} \\Rightarrow \\\\\n",
    "    &\\epsilon \\frac{\\lambda}{\\delta} \\widetilde{w} = \\widetilde{\\eta}_{\\widetilde{t}} + \\widetilde{u} \\widetilde{\\eta}_{\\widetilde{x}}\n",
    "\\end{aligned}$$\n",
    "and\n",
    "$$\\begin{aligned}\n",
    "    &w = u b_x \\Rightarrow \\\\\n",
    "    &\\epsilon \\frac{\\lambda}{\\beta} \\widetilde{w} = \\widetilde{u} \\widetilde{b}_{\\widetilde{x}}\n",
    "\\end{aligned}$$\n",
    "\n",
    "For the upper boundary condition, if $\\frac{\\delta}{\\lambda} = \\mathcal{O}(\\epsilon)$ the boundary condition is all of the same order.  This is probably not the case as $\\delta \\ll a$ unless in very shallow water.\n",
    "\n",
    "The lower boundary condition is a similar situation, if $\\frac{\\beta}{\\lambda} = \\mathcal{O}(\\epsilon)$ the boundary condition is all of the same order.  In the case of the bathymetry scale, this is probably the case as the bathymetry will vary on the scale of the depth scale $a$."
   ]
  },
  {
   "cell_type": "markdown",
   "metadata": {
    "slideshow": {
     "slide_type": "subslide"
    }
   },
   "source": [
    "The final non-dimensionalized equations are then (dropping the $\\widetilde{\\cdot}$):\n",
    "$$\\begin{aligned}\n",
    "    &u_x + w_z = 0 \\\\\n",
    "    &u_t + (u^2)_x + (uw)_z = -P_x \\\\\n",
    "    &\\epsilon^2 \\left (w_t + (uw)_x + (w^2)_z \\right ) = -P_z - 1\n",
    "\\end{aligned}$$\n",
    "with boundary conditions:\n",
    "$$\\begin{aligned}\n",
    "        &\\epsilon \\frac{\\lambda}{\\delta}w = \\eta_t + u \\eta_x \\quad P = P'_a \\quad &z = \\eta\\\\\n",
    "        &\\epsilon \\frac{\\lambda}{\\beta}w = u b_x &z = b\n",
    "\\end{aligned}$$\n",
    "where $P'_a$ is the appropriately scaled atmospheric pressure condition."
   ]
  },
  {
   "cell_type": "markdown",
   "metadata": {
    "slideshow": {
     "slide_type": "subslide"
    }
   },
   "source": [
    "### Depth Integration\n",
    "\n",
    "Integrating the non-dimensionalized incompressibility equations gives us:\n",
    "$$\\begin{aligned}\n",
    "        &\\int^{\\eta}_b \\left ( u_x + w_z \\right) dz = 0 \\Rightarrow \\\\\n",
    "        &\\frac{\\partial}{\\partial x} \\int^{\\eta}_b u dz - u \\eta_x |_{z=\\eta} + u b_x |_{z=b} + w|_{z=\\eta} - w|_{z=b} = 0 \\Rightarrow \\\\\n",
    "        &\\frac{\\partial}{\\partial x} \\int^{\\eta}_b u dz + \\left [w - u \\eta_x\\right ]_{z=\\eta} + \\left [u b_x - w \\right]_{z=b} = 0 \\Rightarrow \\\\\n",
    "        &\\frac{\\partial}{\\partial x} \\int^{\\eta}_b u dz + \\eta_t = 0 \\Rightarrow \\\\\n",
    "        &h_t + \\frac{\\partial}{\\partial x} \\int^{\\eta}_b u dz = 0\n",
    "\\end{aligned}$$"
   ]
  },
  {
   "cell_type": "markdown",
   "metadata": {
    "slideshow": {
     "slide_type": "subslide"
    }
   },
   "source": [
    "Before we integrate the momentum equations we will introduce one of the two assumptions made to simplify the original equations.\n",
    "1. The **hydrostatic assumption** assumes that the pressure is dominated by the gravitational force:\n",
    "$$\n",
    "    P = P_a + (\\eta - z).\n",
    "$$\n",
    "1. The **differential advection** assumption assumes that there is little variation of the horizontal velocity $u$ through the water vertically.  This then implies that\n",
    "$$\n",
    "    \\overline{f \\cdot g} = \\overline{f} \\cdot \\overline{g}\n",
    "$$\n",
    "where\n",
    "$$\n",
    "    \\overline{(f \\cdot g)} = \\frac{1}{h} \\int^\\eta_b f \\cdot g dz.\n",
    "$$"
   ]
  },
  {
   "cell_type": "markdown",
   "metadata": {
    "slideshow": {
     "slide_type": "subslide"
    }
   },
   "source": [
    "Moving back to the integration of the momentum equations we will first start with the z-momentum equations, since the z-momentum equation is multiplied by what we will assume is a small parameter, i.e. $\\epsilon \\ll 1$, we can simplify the vertical momentum equation to\n",
    "$$\\begin{aligned}\n",
    "    0 &= - P_z - 1 \\\\\n",
    "    P_z &= -1 \\\\\n",
    "    P &= P_a + (\\eta - z),\n",
    "\\end{aligned}$$\n",
    "which now justifies our assumption of hydrostatic equilibrium."
   ]
  },
  {
   "cell_type": "markdown",
   "metadata": {
    "slideshow": {
     "slide_type": "subslide"
    }
   },
   "source": [
    "For the x-momentum equation we have now\n",
    "$$\\begin{aligned}\n",
    "    &\\int^{\\eta}_b \\left ( u_t + (u^2)_x + (uw)_z \\right) dz = - \\int^{\\eta}_b (P_a + (\\eta - z))_x dz \\Rightarrow \\\\\n",
    "    &\\frac{\\partial}{\\partial t} \\int^{\\eta}_b u dz - \\eta_t u|_{z=\\eta} + \\frac{\\partial}{\\partial x} \\int^{\\eta}_b u^2 dz - \\eta_x u^2|_{z=\\eta} + b_x u^2|_{z=b} + uw|_{z=\\eta} - uw|_{z=b} = - \\int^{\\eta}_b (\\eta)_x dz \\\\\n",
    "    &\\frac{\\partial}{\\partial t} \\int^{\\eta}_b u dz + \\frac{\\partial}{\\partial x} \\int^{\\eta}_b u^2 dz  - \\left [u (\\eta_t + \\eta_x u - w) \\right]_{z=\\eta} + \\left[u (b_x u - w)\\right]_{z=b} = - \\frac{\\partial}{\\partial x} \\int^{\\eta}_b \\eta dz + \\eta_x \\eta - b_x \\eta \\\\\n",
    "    &\\frac{\\partial}{\\partial t} \\int^{\\eta}_b u dz + \\frac{\\partial}{\\partial x} \\int^{\\eta}_b u^2 dz = \\frac{\\partial}{\\partial x} \\left[ -\\eta h + \\frac{1}{2} \\eta^2 \\right ] - b_x \\eta \\\\\n",
    "        &\\frac{\\partial}{\\partial t} \\int^{\\eta}_b u dz + \\frac{\\partial}{\\partial x} \\int^{\\eta}_b u^2 dz = \\frac{\\partial}{\\partial x} \\left[ -h^2 + hb  + \\frac{1}{2} (h^2 + 2hb + b^2) \\right ] - b_x (h+b) \\Rightarrow \\\\\n",
    "        &\\frac{\\partial}{\\partial t} \\int^{\\eta}_b u dz + \\frac{\\partial}{\\partial x} \\int^{\\eta}_b u^2 dz = \\frac{\\partial}{\\partial x} \\left[ - \\frac{1}{2} h^2 \\right ] - b_x h\\\\\n",
    "        &\\frac{\\partial}{\\partial t} \\int^{\\eta}_b u dz + \\frac{\\partial}{\\partial x} \\left ( \\int^{\\eta}_b u^2 dz + \\frac{1}{2} h^2 \\right ) = - b_x h\n",
    "\\end{aligned}$$"
   ]
  },
  {
   "cell_type": "markdown",
   "metadata": {
    "slideshow": {
     "slide_type": "subslide"
    }
   },
   "source": [
    "Now if we use our differential advection assumption and simplify the notation\n",
    "$$\n",
    "    \\overline{u} = \\frac{1}{h} \\int^{\\eta}_b u dz \\quad \\quad\n",
    "    \\overline{u^2} = \\frac{1}{h} \\int^{\\eta}_b u^2 dz\n",
    "$$\n",
    "we then have from the incompressibility integration\n",
    "$$\\begin{aligned}\n",
    "    &h_t + \\frac{\\partial}{\\partial x} \\int^{\\eta}_b u dz = 0 \\\\\n",
    "    &h_t + (h \\overline{u})_x = 0\n",
    "\\end{aligned}$$\n",
    "and the x-momentum equation\n",
    "$$\\begin{aligned}\n",
    "    &\\frac{\\partial}{\\partial t} \\int^{\\eta}_b u dz + \\frac{\\partial}{\\partial x} \\left ( \\int^{\\eta}_b u^2 dz + \\frac{1}{2} h^2 \\right ) = - b_x h \\\\\n",
    "    & (h\\overline{u})_t + \\left ( h \\overline{u}^2 + \\frac{1}{2} h^2 \\right )_x = - b_x h.\n",
    "\\end{aligned}$$\n",
    "Finally dropping the averaging bars we are lead to the shallow water equations:\n",
    "$$\\begin{aligned}\n",
    "    &h_t + (hu)_x = 0 \\\\\n",
    "    &(hu)_t + \\left (hu^2 + \\frac{1}{2} h^2 \\right)_x = -h b_x\n",
    "\\end{aligned}$$"
   ]
  },
  {
   "cell_type": "markdown",
   "metadata": {
    "slideshow": {
     "slide_type": "subslide"
    }
   },
   "source": [
    "Although these above equations are a valid we will simplify our discussion and drop the term due to bathymetry $b$ and also reapply the dimensional version leading to our final form of the equations\n",
    "$$\\begin{aligned}\n",
    "    &h_t + (hu)_x = 0 \\\\\n",
    "    &(hu)_t + \\left (hu^2 + \\frac{1}{2} g h^2 \\right)_x = 0\n",
    "\\end{aligned}$$\n",
    "leading to a conservation law."
   ]
  },
  {
   "cell_type": "markdown",
   "metadata": {
    "slideshow": {
     "slide_type": "subslide"
    }
   },
   "source": [
    "Note that we can also derive this set of equations from our more direct methods of considering fluxes but some assumptions must be made that makes these equations more difficult to justify.  See the textbook if you would like to this derivation."
   ]
  },
  {
   "cell_type": "markdown",
   "metadata": {
    "slideshow": {
     "slide_type": "subslide"
    }
   },
   "source": [
    "Analyzing this equation in the context of systems of hyperbolic eqautions the first order of business is to compute the Jacobian of the flux function.  First define the vector of the solution as\n",
    "$$\n",
    "    q(x,t) = \\begin{bmatrix} h \\\\ hu \\end{bmatrix}\n",
    "$$\n",
    "and the flux function as\n",
    "$$\n",
    "    f(q) = \\begin{bmatrix} hu \\\\ hu^2 + \\frac{1}{2} gh^2 \\end{bmatrix} = \\begin{bmatrix} q^2 \\\\ \\frac{(q^2)^2)}{q^1} + \\frac{1}{2} g (q^1)^2 \\end{bmatrix}.\n",
    "$$\n",
    "Note at this point that the flux is in-fact convex."
   ]
  },
  {
   "cell_type": "markdown",
   "metadata": {
    "slideshow": {
     "slide_type": "subslide"
    }
   },
   "source": [
    "The quasi-linear form of the equations is defined by\n",
    "$$\n",
    "    q_t + f'(q) q_x = 0\n",
    "$$\n",
    "where\n",
    "$$\n",
    "    f'(q) = \\begin{bmatrix}\n",
    "        0 & 1 \\\\\n",
    "        -(q^2 / q^1)^2 + g q^1 & 2 q^2 / q^1\n",
    "    \\end{bmatrix} = \\begin{bmatrix}\n",
    "        0 & 1 \\\\\n",
    "        -u^2 + gh & 2u\n",
    "    \\end{bmatrix}.\n",
    "$$\n",
    "The eigensystem therfore has the structure\n",
    "$$\n",
    "    \\lambda = u \\pm \\sqrt{gh} \\text{ and } R = \\begin{bmatrix}\n",
    "        1 & 1 \\\\ u - \\sqrt{gh} & u + \\sqrt{gh} \\end{bmatrix}\n",
    "$$\n",
    "These waves (speeds) are known as **gravity waves** (speeds) are are important for determining the behavior even in the simple case of a Riemann problem.  The non-dimensional parameter that is often used in these cases is often called the **Froude number** defined as}\n",
    "$$\n",
    "    \\text{Fr} = \\frac{|u|}{\\sqrt{gh}}\n",
    "$$\n",
    "and is similar to the role of the speed of sound in gasses."
   ]
  },
  {
   "cell_type": "markdown",
   "metadata": {
    "slideshow": {
     "slide_type": "slide"
    }
   },
   "source": [
    "## Dam-Break and Riemann Problems\n",
    "\n",
    "The **dam-break problem** is a special case of a Riemann problem where\n",
    "$$\n",
    "    h(x, 0) = \\left \\{\\begin{aligned}\n",
    "        h_\\ell & & \\text{if } x < 0 \\\\\n",
    "        h_r & & \\text{if } x > 0\n",
    "    \\end{aligned} \\right .\n",
    "$$\n",
    "with $h_ell > h_r \\geq 0$ and $u(x,0) = 0$."
   ]
  },
  {
   "cell_type": "code",
   "execution_count": null,
   "metadata": {
    "slideshow": {
     "slide_type": "skip"
    }
   },
   "outputs": [],
   "source": [
    "def dam_break_animation(h, u=[0.0, 0.0], N=100, ylimits=((0.0, 3.5), (-0.5, 2))):\n",
    "   \n",
    "    solver = pyclaw.ClawSolver1D(riemann.shallow_1D_py.shallow_fwave_1d)\n",
    "    solver.kernel_language = \"Python\"\n",
    "    \n",
    "    solver.num_waves = 2\n",
    "    solver.num_eqn = 2\n",
    "    solver.fwave = True\n",
    "    solver.limiters = [pyclaw.limiters.tvd.MC,\n",
    "                       pyclaw.limiters.tvd.MC]\n",
    "    solver.bc_lower[0] = pyclaw.BC.extrap\n",
    "    solver.bc_upper[0] = pyclaw.BC.extrap\n",
    "    solver.aux_bc_lower[0] = pyclaw.BC.extrap\n",
    "    solver.aux_bc_upper[0] = pyclaw.BC.extrap\n",
    "\n",
    "    x = pyclaw.Dimension(-5.0, 5.0, N, name='x')\n",
    "    domain = pyclaw.Domain(x)\n",
    "    state = pyclaw.State(domain, 2, 1)\n",
    "    xc = domain.grid.x.centers\n",
    "    state.q[0,:] = h[0] * (xc < 0) * numpy.ones(xc.shape) + h[1] * (xc >= 0) * numpy.ones(xc.shape)\n",
    "    state.q[1,:] = u[0] * (xc < 0) * numpy.ones(xc.shape) + u[1] * (xc >= 0) * numpy.ones(xc.shape)\n",
    "    state.q[1,:] *= state.q[0, :]\n",
    "    state.aux[0, :] = numpy.zeros(xc.shape)\n",
    "    \n",
    "    state.problem_data['grav'] = 1.0\n",
    "    state.problem_data['dry_tolerance'] = 1e-3\n",
    "    state.problem_data['sea_level'] = 0.0\n",
    "    \n",
    "    claw = pyclaw.Controller()\n",
    "    claw.tfinal = 2.0\n",
    "    claw.num_output_times = 10\n",
    "    claw.solution = pyclaw.Solution(state,domain)\n",
    "    claw.solver = solver\n",
    "\n",
    "    claw.keep_copy = True\n",
    "    claw.run()\n",
    "    x = claw.frames[0].grid.dimensions[0].centers\n",
    "    \n",
    "    fig, axes = plt.subplots(1, 2)\n",
    "    fig.set_figwidth(fig.get_figwidth() * 2)\n",
    "    axes[0].set_xlim((x[0], x[-1]))\n",
    "    axes[0].set_ylim(ylimits[0])\n",
    "    axes[0].set_title(r\"$h$\")\n",
    "    axes[1].set_xlim((x[0], x[-1]))\n",
    "    axes[1].set_ylim(ylimits[1])\n",
    "    axes[1].set_title(r\"$hu$\")\n",
    "\n",
    "    def init():\n",
    "        axes[0].set_xlim((x[0], x[-1]))\n",
    "        axes[0].set_ylim(ylimits[0])\n",
    "        h_line, = axes[0].plot(x[0], claw.frames[0].q[0, :][0], 'bo-')\n",
    "        axes[1].set_xlim((x[0], x[-1]))\n",
    "        axes[1].set_ylim(ylimits[1])\n",
    "        hu_line, = axes[1].plot(x[0], claw.frames[0].q[1, :][0], 'bo-')\n",
    "        \n",
    "        return (h_line, hu_line)\n",
    "    \n",
    "    h_line, hu_line = init()\n",
    "    \n",
    "    def fplot(n):\n",
    "        h_line.set_data([x,], [claw.frames[n].q[0, :]])\n",
    "        hu_line.set_data([x,], [claw.frames[n].q[1, :]])\n",
    "        axes[0].set_title(r\"$h$ at $t = %s$\" % claw.frames[n].t)\n",
    "        axes[1].set_title(r\"$hu$ at $t = %s$\" % claw.frames[n].t)\n",
    "        return (h_line, hu_line)\n",
    "\n",
    "    frames_to_plot = range(0, len(claw.frames))\n",
    "    plt.close(fig)\n",
    "    return matplotlib.animation.FuncAnimation(fig, fplot, frames=frames_to_plot, interval=100,\n",
    "                                   blit=True, init_func=init, repeat=False)"
   ]
  },
  {
   "cell_type": "code",
   "execution_count": null,
   "metadata": {
    "slideshow": {
     "slide_type": "skip"
    }
   },
   "outputs": [],
   "source": [
    "HTML(dam_break_animation(h=[3.0, 1.0]).to_jshtml())"
   ]
  },
  {
   "cell_type": "markdown",
   "metadata": {
    "slideshow": {
     "slide_type": "subslide"
    }
   },
   "source": [
    "Now let's attempt to sketch the characteristics in this case."
   ]
  },
  {
   "cell_type": "markdown",
   "metadata": {
    "slideshow": {
     "slide_type": "slide"
    }
   },
   "source": [
    "## Characteristic Structure\n",
    "\n",
    "As mentioned earlier, a nonlinear set of equations will have a different fluid (or particle) speeds from the characteristic speeds.  We can see in this in shallow water easily by noting that the fluid speed is directly $u$ and the characteristic speeds are $u \\pm \\sqrt{g h}$."
   ]
  },
  {
   "cell_type": "markdown",
   "metadata": {
    "slideshow": {
     "slide_type": "subslide"
    }
   },
   "source": [
    "We also now have two characteristic families, the 1-characteristics where\n",
    "$$\n",
    "    \\frac{\\text{d} X}{\\text{d} t} = \\lambda^1 = u - \\sqrt{g h}\n",
    "$$\n",
    "and the 2-characteristics where\n",
    "$$\n",
    "    \\frac{\\text{d} X}{\\text{d} t} = \\lambda^2 = u + \\sqrt{g h}.\n",
    "$$\n",
    "We can again sketch both.  Note that the wave associated with each field defines either a rarefaction (in the 1-characteristic field) and a shock (in the 2-characteristic field).  The characteristics however are modified by the wave in the other field as expected."
   ]
  },
  {
   "cell_type": "markdown",
   "metadata": {
    "slideshow": {
     "slide_type": "subslide"
    }
   },
   "source": [
    "Generally a system of $m$ equations will produce $m$ characteristic families and $m$ waves in the Riemann solution."
   ]
  },
  {
   "cell_type": "markdown",
   "metadata": {
    "slideshow": {
     "slide_type": "subslide"
    }
   },
   "source": [
    "If we order the characteristic speeds \n",
    "$$\n",
    "    \\lambda^1 \\leq \\lambda^2 \\leq \\ldots \\leq \\lambda^{p-1} \\leq \\lambda^p \\leq  \\lambda^{p+1} \\leq \\ldots \\leq \\lambda^m\n",
    "$$\n",
    "and the $p$th wave is a shock, then the characteristics of families $1$ through $p-1$ will cross the wave from left to right and waves $p+1$ to $m$ will cross from right to left.  Most physical systems exhibit this behavior and are often called **classical Lax shocks**.\n",
    "\n",
    "For this occur we need:\n",
    " - The system must be strictly hyperbolic\n",
    " - The conditions described later of **genuine nonlinearity**"
   ]
  },
  {
   "cell_type": "markdown",
   "metadata": {
    "slideshow": {
     "slide_type": "subslide"
    }
   },
   "source": [
    "## Two-Shock Riemann Solution\n",
    "\n",
    "We now will turn to example situations for the shallow water equations with specific wave structures.  The first is the all shock (two-shock) Riemann problem with\n",
    "$$\n",
    "    u(x, 0) = \\left \\{\\begin{aligned}\n",
    "        u_\\ell & & \\text{if } x < 0 \\\\\n",
    "        -u_\\ell & & \\text{if } x > 0\n",
    "    \\end{aligned} \\right .\n",
    "$$\n",
    "with $u_\\ell > 0$ and $h(x,0) \\equiv h_0$ and $h_0 > 0$."
   ]
  },
  {
   "cell_type": "code",
   "execution_count": null,
   "metadata": {
    "slideshow": {
     "slide_type": "skip"
    }
   },
   "outputs": [],
   "source": [
    "HTML(dam_break_animation(h=[1, 1], u=[1, -1], ylimits=((0, 2.6), (-1.1, 1.1))).to_jshtml())"
   ]
  },
  {
   "cell_type": "markdown",
   "metadata": {
    "slideshow": {
     "slide_type": "subslide"
    }
   },
   "source": [
    "Let's again attempt to sketch the characteristics."
   ]
  },
  {
   "cell_type": "markdown",
   "metadata": {
    "slideshow": {
     "slide_type": "slide"
    }
   },
   "source": [
    "## Weak Waves and the Linearized Problem\n",
    "\n",
    "We can of course linearize the shallow water equations by expanding around a background state and assuming the solution is a perturbation to this background state (similar to how we derived the acoustics equations).\n",
    "\n",
    "For shallow water it makes the most sense to assume a non-zero depth and taking\n",
    "$$\n",
    "    h_\\ell = H + \\epsilon \\quad h_r = H - \\epsilon\n",
    "$$\n",
    "for $\\epsilon \\ll H$ and $u = \\epsilon$.  This will then lead to two \"acoustic\" waves moving at $\\pm \\sqrt{g H}$ and look the same as a linear system.  What happens though if we plug this into a nonlinear solver with these initial conditions?"
   ]
  },
  {
   "cell_type": "code",
   "execution_count": null,
   "metadata": {
    "slideshow": {
     "slide_type": "skip"
    }
   },
   "outputs": [],
   "source": [
    "H = 1.0\n",
    "epsilon = 0.01\n",
    "HTML(dam_break_animation(h = [H+epsilon, H-epsilon], u=[0.0, 0.0], N=500, ylimits=((H-10*epsilon, H+10*epsilon), (-1.1, 1.1))).to_jshtml())"
   ]
  },
  {
   "cell_type": "markdown",
   "metadata": {
    "slideshow": {
     "slide_type": "slide"
    }
   },
   "source": [
    "## Solving the General Riemann Problem\n",
    "\n",
    "1. Determine whether each of the two waves are a shock or rarefaction (entropy condition).\n",
    "2. Determine the intermediate state $q_m$ between the waves.\n",
    "3. Determine the structure of the rarefaction wave if present."
   ]
  },
  {
   "cell_type": "markdown",
   "metadata": {
    "slideshow": {
     "slide_type": "slide"
    }
   },
   "source": [
    "## Shock Waves and Hugoniot Loci\n",
    "\n",
    "When we have a system of nonlinear equations things are not quite as straightforward as they were for linear systems.  Our main goal here is to connect the left state $q_\\ell$ and $q_r$ to a middle state $q_m$."
   ]
  },
  {
   "cell_type": "markdown",
   "metadata": {
    "slideshow": {
     "slide_type": "subslide"
    }
   },
   "source": [
    "To simplify the discussion consider a right going shock in the second family of characteristics.  This implies that the state $q_m$ and $q_r$ must be connected via the Rankine-Hugoniot condition:\n",
    "$$\n",
    "    s (q_* - q) = f(q_*) - f(q)\n",
    "$$\n",
    "leading to\n",
    "$$\\begin{aligned}\n",
    "    s (h_* - h) &= h_* u_* - hu \\\\\n",
    "    s (h_* u_* - h u) &= h_* u_*^2 - hu^2 + \\frac{1}{2} g (h^2_* - h^2)\n",
    "\\end{aligned}$$\n",
    "for the shallow water equations.  Here we are going to consider $h_*$ and $u_*$ fixed and given and $h$ and $u$ the set of valid states that can connect to $h_*$ and $u_*$ via a shock.  These admissable states $h$ and $u$ create curves in the phase plane called **Hugoniot loci**."
   ]
  },
  {
   "cell_type": "markdown",
   "metadata": {
    "slideshow": {
     "slide_type": "subslide"
    }
   },
   "source": [
    "The easiest approach to satisfying this condition is to find $u$ as a function of $h$ and solve for $u$.\n",
    "$$\\begin{aligned}\n",
    "    s = \\frac{h_* u_* - h u}{h_* - h} & & \\text{Use first equation} \\\\\n",
    "    u^2 - 2 u_* u + \\left[ u^2_* - \\frac{g}{2} \\left(\\frac{h_*}{h} - \\frac{h}{h_*} \\right ) (h_* - h) \\right ] = 0 & & \\text{Substitute u and simplify} \\\\\n",
    "    u(h) = u_* \\pm \\sqrt{\\frac{g}{2} \\left(\\frac{h_*}{h} - \\frac{h}{h_*} \\right ) (h_* - h)} & & \\text{Solve quadratic}\n",
    "\\end{aligned}$$"
   ]
  },
  {
   "cell_type": "markdown",
   "metadata": {
    "slideshow": {
     "slide_type": "subslide"
    }
   },
   "source": [
    "$$\n",
    "    u(h) = u_* \\pm \\sqrt{\\frac{g}{2} \\left(\\frac{h_*}{h} - \\frac{h}{h_*} \\right ) (h_* - h)}\n",
    "$$\n",
    "Observations:\n",
    "1. If $h = h_*$ then $u = u_*$.\n",
    "1. if $h \\neq h_*$ then there are two solutions for $u$ corresponding to the two families of shocks.\n",
    "1. If $q \\approx q_*$ then the result will be approximately equal to the linearized theory and the Hugoniot loci will approximate the eigenvectors found from the linearization.\n",
    "\n",
    "This final point is important as it serves as a way to tell which solution corresponds to which family as the eigenvector of the appropriate field will be tanget to the Hugoniot loci at $q_*$."
   ]
  },
  {
   "cell_type": "markdown",
   "metadata": {
    "slideshow": {
     "slide_type": "subslide"
    }
   },
   "source": [
    "We can see this more clearly by multiplying the function $u(h)$ by $h$ and reformulating $h = h_* + \\alpha$ to get\n",
    "$$\n",
    "    hu(h) = h_*u_* + \\alpha \\left[ u_* \\pm \\sqrt{g h_* \\left(1 + \\frac{\\alpha}{h_*} \\right ) \\left(1 + \\frac{\\alpha}{2h_*} \\right ) }\\right ].\n",
    "$$\n",
    "At $\\alpha = 0$ we end up having\n",
    "$$\n",
    "    q = q_* + \\alpha \\begin{bmatrix} 1 \\\\ u_* \\pm \\sqrt{g h_* + \\mathcal{O}(\\alpha) }\\end{bmatrix} \\quad \\text{as } \\alpha \\rightarrow 0.\n",
    "$$"
   ]
  },
  {
   "cell_type": "markdown",
   "metadata": {
    "slideshow": {
     "slide_type": "subslide"
    }
   },
   "source": [
    "### All-Shock Riemann Solution Revisited\n",
    "\n",
    "So we have something to connect to with our current knowledge let us suppose that both the first and second fields contain shocks.  We can then find $q_m$ by seeing which state $q_m$ can connect to both $q_\\ell$ and $q_r$."
   ]
  },
  {
   "cell_type": "markdown",
   "metadata": {
    "slideshow": {
     "slide_type": "subslide"
    }
   },
   "source": [
    "First for the right state we have\n",
    "$$\\begin{aligned}\n",
    "    h_m u_m &= h_r u_r + (h_m - h_r) \\left[ u_r + \\sqrt{g h_r \\left(1 + \\frac{h_m - h_r}{h_r} \\right) \\left(1 + \\frac{h_m - h_r}{2 h_r} \\right ) } \\right ] \\\\\n",
    "    u_m &= u_r + (h_m - h_r) \\sqrt{\\frac{g}{2} \\left( \\frac{1}{h_m} + \\frac{1}{h_r} \\right) }.\n",
    "\\end{aligned}$$\n",
    "Similarly we also can connect to the left state via\n",
    "$$\n",
    "    u_m = u_\\ell - (h_m - h_\\ell) \\sqrt{\\frac{g}{2} \\left( \\frac{1}{h_m} + \\frac{1}{h_\\ell} \\right) }\n",
    "$$\n",
    "We now have two equations with two unknows."
   ]
  },
  {
   "cell_type": "markdown",
   "metadata": {
    "slideshow": {
     "slide_type": "subslide"
    }
   },
   "source": [
    "The general approach at this point is to set both conditions equal to each other and derive a value for $h_m$ by some nonlinear solver and then subsequently finding $u_m$"
   ]
  },
  {
   "cell_type": "markdown",
   "metadata": {
    "slideshow": {
     "slide_type": "subslide"
    }
   },
   "source": [
    "### Entropy Conditions\n",
    "\n",
    "What if we apply the above procedure to a problem that we know only contains 1 shock such as the dam-break problem.  At this point we do not have a means to distinguish between these cases as both the all-shock, all-rarefaction and mixed shock-rarefaction solutions are all weak solutions.  We need to turn to entropy conditions to distinguish then the relevant solution."
   ]
  },
  {
   "cell_type": "markdown",
   "metadata": {
    "slideshow": {
     "slide_type": "subslide"
    }
   },
   "source": [
    "A discontinuity separating states $q_\\ell$ and $q_r$, propagating at speed $s$, statisfies the **Lax entropy condition** if there is an index $p$ such that\n",
    "$$\n",
    "    \\lambda^p(q_\\ell) > s > \\lambda^p(q_r)\n",
    "$$\n",
    "so that $p$-characteristics are impinging on the discontinuity, while the other characteristics are crossing the discontinuity,\n",
    "$$\\begin{aligned}\n",
    "    \\lambda^j(q_\\ell) < s & &\\text{and}& &\\lambda^j(q_r) < s \\quad \\text{for } j < p \\\\\n",
    "    \\lambda^j(q_\\ell) > s & &\\text{and}& &\\lambda^j(q_r) > s \\quad \\text{for } j > p.\n",
    "\\end{aligned}$$\n",
    "\n",
    "This condition only works however for strictly hyperbolic PDEs where each field is genuinely nonlinear (more on that later)."
   ]
  },
  {
   "cell_type": "markdown",
   "metadata": {
    "slideshow": {
     "slide_type": "subslide"
    }
   },
   "source": [
    "As is common another, more general condition can be formulated for a particular system.  For shallow water a 1-shock connecting $q_\\ell$ and $q_m$ must have the characteristic speed\n",
    "$$\n",
    "    \\lambda^1 = u - \\sqrt{g h}\n",
    "$$\n",
    "decrease as we expect the characteristics must impinge on the shock in the first characteristics family.  Adding in the Rankine-Hugoniot condition this implies also that $h$ must incrase implying that we require\n",
    "$$\n",
    "    h_m > h_\\ell.\n",
    "$$\n",
    "Similarly the 2-shock connecting $q_m$ to $q_r$ must sastisfy\n",
    "$$\n",
    "    h_m > h_r.\n",
    "$$"
   ]
  },
  {
   "cell_type": "markdown",
   "metadata": {
    "slideshow": {
     "slide_type": "slide"
    }
   },
   "source": [
    "## Rarefactions\n",
    "\n",
    "The second type of wave we need to investigate for Riemann problems are rarefactions.  One particular type of rarefactions are important for us in the Riemann problems.  **Centered rarefactions** are constant along every ray $x/t = $ constant as we expect."
   ]
  },
  {
   "cell_type": "code",
   "execution_count": null,
   "metadata": {
    "slideshow": {
     "slide_type": "skip"
    }
   },
   "outputs": [],
   "source": [
    "# All rarefaction solution\n",
    "HTML(dam_break_animation(h=[1, 1], u=[-1.0, 1.0], ylimits=((0, 2.6), (-1.1, 1.1))).to_jshtml())"
   ]
  },
  {
   "cell_type": "markdown",
   "metadata": {
    "slideshow": {
     "slide_type": "subslide"
    }
   },
   "source": [
    "Like before we can solve for the rarefaction by assuming that the solution is a similarity solution:\n",
    "$$\n",
    "    q(x, t) = \\widetilde{q}(\\xi)\n",
    "$$\n",
    "where\n",
    "$$\n",
    "    \\xi = \\frac{x}{t}\n",
    "$$\n",
    "leading to\n",
    "$$\n",
    "    f'(\\widetilde{q}(x / t)) \\widetilde{q}'(x / t) = \\xi \\widetilde{q}'(\\xi).\n",
    "$$\n",
    "For systems now this is generally a system of equations as $\\widetilde{q}$ is now a vector meaning that solving the problem implies solving an eigenproblem."
   ]
  },
  {
   "cell_type": "markdown",
   "metadata": {
    "slideshow": {
     "slide_type": "subslide"
    }
   },
   "source": [
    "### Integral Curves\n",
    "\n",
    "Assume that $\\widetilde{q}(\\xi)$ is a smooth curve through state space parameterized by $\\xi$.  This is called an **integral curve of the vector field** $r^p$ if at each point $\\widetilde{q}(\\xi)$ the tangent vector, $\\widetilde{q}'(\\xi)$ is an eigenvector of the Jacobian $f'(\\widetilde{q}(\\xi))$ corresponding to the eigenvalue $\\lambda^p(\\widetilde{q}(\\xi))$."
   ]
  },
  {
   "cell_type": "markdown",
   "metadata": {
    "slideshow": {
     "slide_type": "subslide"
    }
   },
   "source": [
    "If we pick out one set of eigenvectors $r^p(q)$ then\n",
    "$$\n",
    "    \\widetilde{q}'(\\xi) = \\alpha(\\xi) r^p(\\widetilde{q}(\\xi))\n",
    "$$\n",
    "where the value of $\\alpha(\\xi)$ depends on the parameterization of the curve used and the normalization of $r^p$."
   ]
  },
  {
   "cell_type": "markdown",
   "metadata": {
    "slideshow": {
     "slide_type": "subslide"
    }
   },
   "source": [
    "For the shallow water equations let's examine the eigenvectors associated with $r^2$.  We know then that\n",
    "$$\n",
    "    \\widetilde{q}'(\\xi) = r^2(\\widetilde{q}(\\xi)) = \\begin{bmatrix}\n",
    "        1 \\\\ \\frac{\\widetilde{q}^2}{\\widetilde{q}^1} + \\sqrt{g \\widetilde{q}^1}\n",
    "    \\end{bmatrix}\n",
    "$$\n",
    "where $\\alpha \\equiv 1$ in this case.  This leads to 2 ODEs\n",
    "$$\\begin{aligned}\n",
    "    &(\\widetilde{q}^1)' = 1 \\\\\n",
    "    &(\\widetilde{q}^2)' = \\frac{\\widetilde{q}^2}{\\widetilde{q}^1} + \\sqrt{g \\widetilde{q}^1}.\n",
    "\\end{aligned}$$\n",
    "Try now to solve these equations."
   ]
  },
  {
   "cell_type": "markdown",
   "metadata": {
    "slideshow": {
     "slide_type": "subslide"
    }
   },
   "source": [
    "The first equation implies\n",
    "$$\n",
    "    \\widetilde{q}^1(\\xi) = \\xi.\n",
    "$$\n",
    "Plugging this into the second equation leads to\n",
    "$$\n",
    "    (\\widetilde{q}^2)' = \\frac{\\widetilde{q}^2}{\\xi} + \\sqrt{g \\xi}.\n",
    "$$\n",
    "If we now fix one point $(h_*, u_*)$ on the integral curve requiring\n",
    "$$\n",
    "    \\widetilde{q}^2(h_*) = h_* u_*\n",
    "$$\n",
    "which leads to the solution\n",
    "$$\n",
    "    \\widetilde{q}^2(\\xi) = \\xi u_* - 2 \\xi (\\sqrt{g h_*} - \\sqrt{g \\xi}).\n",
    "$$\n",
    "Since $\\xi \\equiv h$ is the parameterization we can also write this as\n",
    "$$\n",
    "    hu = hu_* - 2 h (\\sqrt{g h_*} - \\sqrt{g h})\n",
    "$$\n",
    "or simplifying a bit\n",
    "$$\n",
    "    u = u_* - 2 (\\sqrt{g h_*} - \\sqrt{g h}).\n",
    "$$\n",
    "Similarly for the $r^1(\\xi)$ field the final equation is\n",
    "$$\n",
    "    u = u_* + 2 (\\sqrt{g h_*} - \\sqrt{g h}).\n",
    "$$"
   ]
  },
  {
   "cell_type": "markdown",
   "metadata": {
    "slideshow": {
     "slide_type": "subslide"
    }
   },
   "source": [
    "### Riemann Invariants\n",
    "\n",
    "We now have expressions for the integral curves of both $r^1$ and $r^2$ where we have an arbitrary point on the curve $(h_*, u_*)$.  We can of course rewrite this condition as\n",
    "$$\n",
    "    u + 2\\sqrt{g h} = u_* + 2 \\sqrt{g h_*}\n",
    "$$\n",
    "implying that there for any two points on the curve the value above must be constant, in other words invariant on the curve."
   ]
  },
  {
   "cell_type": "markdown",
   "metadata": {
    "slideshow": {
     "slide_type": "subslide"
    }
   },
   "source": [
    "We can extend this to a more formal definition so that for any point on the integral curve, there is a **Riemann invariant** function for each family, which remains constant on that curve.  For the 1-family we have\n",
    "$$\n",
    "    w^1(q) = u + 2 \\sqrt{g h}\n",
    "$$\n",
    "and\n",
    "$$\n",
    "    w^2(q) = u - 2 \\sqrt{g h}\n",
    "$$\n",
    "for the 2-family.  These are also sometimes called $p$**-Riemann invariants**."
   ]
  },
  {
   "cell_type": "markdown",
   "metadata": {
    "slideshow": {
     "slide_type": "subslide"
    }
   },
   "source": [
    "Checking back with our original supposition that we have integral curves we can make the following statements.  If $\\widetilde{q}(\\xi)$ is our parameterization of any $r^p$ integral curve, then $w^p(q)$ is constant along $\\widetilde{q}(\\xi)$ implying\n",
    "$$\n",
    "    \\frac{\\text{d}}{\\text{d} \\xi} w^p(\\widetilde{q}(\\xi)) = 0.\n",
    "$$\n",
    "Extending this out to all fields leads to the broader condition that\n",
    "$$\n",
    "    \\nabla w^p(\\widetilde{q}(\\xi)) \\cdot \\widetilde{q}'(\\xi) = 0\n",
    "$$\n",
    "where $\\nabla w^p$ is the gradient with respect to $q$ and therefore\n",
    "$$\n",
    "    \\nabla w^p(\\widetilde{q}(\\xi)) \\cdot r^p(\\widetilde{q}(\\xi)) = 0,\n",
    "$$\n",
    "which must hold on every integral curve.  In other words the Riemann invariants must be orthogonal to the eigenvectors $r^p$ at each point $q$ or that the integral curves are level sets of the functions $w^p(q)$."
   ]
  },
  {
   "cell_type": "markdown",
   "metadata": {
    "slideshow": {
     "slide_type": "subslide"
    }
   },
   "source": [
    "### Simple Waves\n",
    "\n",
    "A solution to a conservation law for which\n",
    "$$\n",
    "    q(x,t) = \\widetilde{q}(\\xi(x, t))\n",
    "$$\n",
    "where $\\widetilde{q}(\\xi)$ traces out integral curves of some family and $\\xi(x,t)$ is some smooth mapping $(x,t) \\mapsto \\xi$ is also called a **simple wave**."
   ]
  },
  {
   "cell_type": "markdown",
   "metadata": {
    "slideshow": {
     "slide_type": "subslide"
    }
   },
   "source": [
    "If we want to find the function $\\xi(x,t)$ that satisfies the conservation law (rather than just assume it as we have done in the past) we can derive the appropriate mapping by plugging in the function $\\xi(x,t)$ into the conservation law.  Do this now to derive what PDE the function $\\xi(x,t)$ must satisfy."
   ]
  },
  {
   "cell_type": "markdown",
   "metadata": {
    "slideshow": {
     "slide_type": "subslide"
    }
   },
   "source": [
    "$$\\begin{aligned}\n",
    "    q_t = \\widetilde{q}'(\\xi) \\xi_t \\text{ and } q_x = \\widetilde{q}'(\\xi) \\xi_x & & \\text{Take derivatives of } q \\\\\n",
    "    \\widetilde{q}'(\\xi) \\xi_t + f'(\\widetilde{q}(\\xi)) \\widetilde{q}'(\\xi) \\xi_x = 0 & & \\text{Plug into conservation law} \\\\\n",
    "    \\left[ \\xi_t + f'(\\widetilde{q}(\\xi)) \\xi_x \\right] \\widetilde{q}'(\\xi) = 0 & & \\text{Factor out eigenvector} \\\\\n",
    "    \\left[ \\xi_t + \\lambda^p(\\widetilde{q}(\\xi)) \\xi_x \\right] \\widetilde{q}'(\\xi) = 0 & & \\text{Eigenproblem} \\\\\n",
    "    \\xi_t + \\lambda^p(\\widetilde{q}(\\xi)) \\xi_x  = 0 & & \\text{} \\\\\n",
    "\\end{aligned}$$"
   ]
  },
  {
   "cell_type": "markdown",
   "metadata": {
    "slideshow": {
     "slide_type": "subslide"
    }
   },
   "source": [
    "Suppose we choose initial data $q(x,0)$ that lies on the integral curve where\n",
    "$$\n",
    "    q(x,0) = \\widetilde{q}_0(\\xi(x))\n",
    "$$\n",
    "implying that we also have $\\xi(0)$ so that we have initial data for our new PDE.  If $\\lambda^p(\\widetilde{q}(\\xi(x,0)))$ is monotonically increasing then the characteristics will always be spreading out and we do not expect to see a breakdown of the solution."
   ]
  },
  {
   "cell_type": "markdown",
   "metadata": {
    "slideshow": {
     "slide_type": "subslide"
    }
   },
   "source": [
    "### Genuine Nonlinearity and Linear Degeneracy\n",
    "\n",
    "One condition that has been mentioned previously is the idea that we want $\\lambda^p(\\widetilde{q}(\\xi))$ to vary monotonically as we move along an integral curve.  This condition is similar to the condition that the flux function is convex and for systems this condition generally replaces the convexity condition as an analogous condition.  We therefore say that the $p$th field is **genuinely nonlinear** if $\\lambda^p(\\widetilde{q}(\\xi))$ varies monotonically with $\\xi$ along every integral curve."
   ]
  },
  {
   "cell_type": "markdown",
   "metadata": {
    "slideshow": {
     "slide_type": "subslide"
    }
   },
   "source": [
    "Note this variation can be computed by\n",
    "$$\n",
    "    \\frac{\\text{d}}{\\text{d} \\xi} \\lambda^p(\\widetilde{q}(\\xi)) = \\nabla \\lambda^p(\\widetilde{q}(\\xi)) \\cdot \\widetilde{q}'(\\xi).\n",
    "$$"
   ]
  },
  {
   "cell_type": "markdown",
   "metadata": {
    "slideshow": {
     "slide_type": "subslide"
    }
   },
   "source": [
    "Since $\\widetilde{q}'(\\xi) = \\alpha r^p(\\widetilde{q}(\\xi))$ we know that the $p$the field is genuinely nonlinear if\n",
    "$$\n",
    "    \\nabla \\lambda^p(q) \\cdot r^p(q) \\neq 0 \\quad \\forall q.\n",
    "$$\n",
    "\n",
    "Also if\n",
    "$$\n",
    "    \\nabla \\lambda^p(q) \\cdot r^p(q) \\equiv 0 \\quad \\forall q.\n",
    "$$\n",
    "then $\\lambda^p(q)$ is constant along each curve, an example where this occurs is for a constant-coefficient linear hyperbolic system.  Regardless if this occurs we say that the field is **linearly degenerate** and acts like a linear wave."
   ]
  },
  {
   "cell_type": "markdown",
   "metadata": {
    "slideshow": {
     "slide_type": "subslide"
    }
   },
   "source": [
    "### Centered Rarefaction Waves\n",
    "\n",
    "A **centered rarefaction wave** is a rarefaction that is genuinely nonlinear and for which $\\xi(x,t) = x/t$ such that the solutions is constant on rays through the origin and has the form\n",
    "$$\n",
    "    q(x,t) = \\left \\{ \\begin{aligned}\n",
    "        q_\\ell & & \\text{if } x/t \\leq \\xi_1 \\\\\n",
    "        \\widetilde{q}(x/t) & & \\text{if } \\xi_1 \\geq x/t \\leq \\xi_2 \\\\\n",
    "        q_r & & \\text{if } x/t \\geq \\xi_2 \\\\\n",
    "\\end{aligned} \\right .\n",
    "$$\n",
    "Note that this does imply that $\\lambda^p(q_\\ell) < \\lambda^p(q_r)$ so that the characteristics spread out."
   ]
  },
  {
   "cell_type": "markdown",
   "metadata": {
    "slideshow": {
     "slide_type": "subslide"
    }
   },
   "source": [
    "By definition we are also forced to pick the parameterization\n",
    "$$\n",
    "    \\xi = x/t\n",
    "$$\n",
    "implying that the value $\\widetilde{q}(\\xi)$ along $x / t = \\xi$ is propagating at speed $\\xi$.  This also implies that the characteristic speed $\\lambda^p(\\widetilde{q}(\\xi))$ and $\\xi$ must agree.  We can also see this as our PDE for $\\xi$ is for this case\n",
    "$$\\begin{aligned}\n",
    "    -\\frac{x}{t^2} + \\lambda^p(\\widetilde{q}(x/t)) \\frac{1}{t} = 0 \\Rightarrow \\\\ \\frac{x}{t} = \\lambda^p(\\widetilde{q}(x/t)).\n",
    "\\end{aligned}$$\n",
    "\n",
    "The more important point here is that the edges of the rarefaction fan should be the ray $x/t = \\lambda^p(q_*)$ implying that we can also identify $\\xi_1$ and $\\xi_2$ as\n",
    "$$\n",
    "    \\xi_1 = \\lambda^p(q_\\ell) \\quad \\xi_2 = \\lambda^p(q_r).\n",
    "$$"
   ]
  },
  {
   "cell_type": "markdown",
   "metadata": {
    "slideshow": {
     "slide_type": "subslide"
    }
   },
   "source": [
    "To figure out how the value of $\\widetilde{q}(x/t)$ varies inside of the rarefaction we can take the following steps:\n",
    "$$\\begin{aligned}\n",
    "    \\xi = \\lambda^p(\\widetilde{q}(\\xi)) & & \\text{Implied from above} \\\\\n",
    "    1 = \\nabla \\lambda^p(\\widetilde{q}(\\xi)) \\cdot \\widetilde{q}'(\\xi) & & \\text{Differentiate w.r.t. }\\xi \\\\\n",
    "    1 = \\alpha(\\xi) \\nabla \\lambda^p(\\widetilde{q}(\\xi)) \\cdot r^p(\\widetilde{q}'(\\xi)) & & \\text{Plug in } \\widetilde{q}'(\\xi) = \\alpha r^p \\\\\n",
    "    \\alpha(\\xi) = \\frac{1}{\\nabla \\lambda^p(\\widetilde{q}(\\xi)) \\cdot r^p(\\widetilde{q}(\\xi))} & & \\text{Solve for } \\alpha(\\xi) \\\\\n",
    "    \\widetilde{q}'(\\xi)) = \\frac{r^p(\\widetilde{q}(\\xi))}{\\nabla \\lambda^p(\\widetilde{q}(\\xi)) \\cdot r^p(\\widetilde{q}(\\xi))} & & \\text{Plug in }\\alpha \\text{ in definition}\n",
    "\\end{aligned}$$\n",
    "Note now that we see the importance of a monotonically varying, nonzero condition as expressed in the denominator here."
   ]
  },
  {
   "cell_type": "markdown",
   "metadata": {
    "slideshow": {
     "slide_type": "subslide"
    }
   },
   "source": [
    "#### Example:  Shallow Water\n",
    "\n",
    "For shallow water compute the solution for the expression through the rarefaction.  Note that you will need\n",
    "$$\n",
    "    \\lambda^1 = u - \\sqrt{gh} = \\frac{q^2}{q^1} - \\sqrt{g q^1} \\quad r^1 = \\begin{bmatrix} 1 \\\\ \\lambda^1 \\end{bmatrix}\n",
    "$$\n",
    "or\n",
    "$$\n",
    "    \\lambda^2 = u + \\sqrt{gh} = \\frac{q^2}{q^1} + \\sqrt{g q^1} \\quad r^2 = \\begin{bmatrix} 1 \\\\ \\lambda^2 \\end{bmatrix}.\n",
    "$$\n",
    "Depending on the direction you go."
   ]
  },
  {
   "cell_type": "markdown",
   "metadata": {
    "slideshow": {
     "slide_type": "subslide"
    }
   },
   "source": [
    "Approaching this from the left we need to compute\n",
    "$$\n",
    "    \\nabla \\lambda^1 = \\begin{bmatrix}\n",
    "        -\\frac{q^2}{(q^1)^2} - \\frac{1}{2} \\sqrt{\\frac{g}{q^1}} \\\\\n",
    "        \\frac{1}{q^1}\n",
    "    \\end{bmatrix}.\n",
    "$$\n",
    "The inner product of the gradient and eigenvector is then\n",
    "$$\\begin{aligned}\n",
    "    \\nabla \\lambda^1 \\cdot r^1 &= \\begin{bmatrix}\n",
    "        -\\frac{q^2}{(q^1)^2} - \\frac{1}{2} \\sqrt{\\frac{g}{q^1}} \\\\\n",
    "        \\frac{1}{q^1}\n",
    "    \\end{bmatrix} \\cdot \\begin{bmatrix} 1 \\\\  \\frac{q^2}{q^1} - \\sqrt{g q^1} \\end{bmatrix} \\\\ \n",
    "    &= -\\frac{q^2}{(q^1)^2} - \\frac{1}{2} \\sqrt{\\frac{g}{q^1}} + \\frac{q^2}{(q^1)^2} - \\sqrt{\\frac{g}{q^1}} \\\\\n",
    "    &= -\\frac{3}{2} \\sqrt{\\frac{g}{q^1}}\n",
    "\\end{aligned}$$"
   ]
  },
  {
   "cell_type": "markdown",
   "metadata": {
    "slideshow": {
     "slide_type": "subslide"
    }
   },
   "source": [
    "Plugging this into our equation for $\\widetilde{q}'$ we get\n",
    "$$\n",
    "    \\widetilde{q}' = -\\frac{2}{3} \\sqrt{\\frac{\\widetilde{q}^1}{g}} \\begin{bmatrix}\n",
    "        1 \\\\ \\frac{\\widetilde{q}^2}{\\widetilde{q}^1} - \\sqrt{g \\widetilde{q}^1}\n",
    "    \\end{bmatrix}\n",
    "$$\n",
    "The first equation implies\n",
    "$$\n",
    "    \\widetilde{h}'(\\xi) = -\\frac{2}{3} \\sqrt{\\frac{\\widetilde{h}(\\xi)}{g}}\n",
    "$$\n",
    "whose general solution is\n",
    "$$\n",
    "    \\widetilde{h} = \\frac{1}{9g} (c - \\xi)^2\n",
    "$$\n",
    "where $c$ is some constant determined by the initial condition $\\xi_1$ or that $\\widetilde{h} = h_\\ell$ at $\\xi = u_\\ell - \\sqrt{g h_\\ell}$ and $\\widetilde{h} = h_r$ at $\\xi = u_r - \\sqrt{g h_r}$.  This can be satisfied if\n",
    "$$\n",
    "    c = u_\\ell + 2 \\sqrt{g h_\\ell} = u_r + 2 \\sqrt{g h_r}\n",
    "$$\n",
    "which of course is our Riemann invariant.  We can then also observe that $\\widetilde{h}$ varies quadratically.\n",
    "\n",
    "Once we know $\\widetilde{h}$ we can of course use our the Riemann invariant to also then find $\\widetilde{u}$."
   ]
  },
  {
   "cell_type": "markdown",
   "metadata": {
    "slideshow": {
     "slide_type": "subslide"
    }
   },
   "source": [
    "### The All-Rarefaction Solution\n",
    "\n",
    "Extending beyond the single rarefaction now consider the case where both waves are rarefactions and we want to find the middle state $q_m$ as we did before with the all-shock problem."
   ]
  },
  {
   "cell_type": "markdown",
   "metadata": {
    "slideshow": {
     "slide_type": "subslide"
    }
   },
   "source": [
    "Since we know that the integral curves connecting a state $q_*$ to $q$ must satisfy\n",
    "$$\n",
    "    u = u_* \\pm 2 (\\sqrt{g h_*} - \\sqrt{g h})\n",
    "$$\n",
    "we can fill in the values here for the 1-field to find\n",
    "$$\n",
    "    u_m = u_\\ell + 2 (\\sqrt{g h_\\ell} - \\sqrt{g h_m})\n",
    "$$\n",
    "and for the 2-field\n",
    "$$\n",
    "    u_m = u_r - 2 (\\sqrt{g h_r} - \\sqrt{g h_m})\n",
    "$$\n",
    "Equating these two equations leads to\n",
    "$$\n",
    "    u_\\ell + 2 (\\sqrt{g h_\\ell} - \\sqrt{g h_m}) = u_r - 2 (\\sqrt{g h_r} - \\sqrt{g h_m})\n",
    "$$\n",
    "whose solution is\n",
    "$$\n",
    "    h_m = \\frac{1}{16 g} \\left[u_\\ell - u_r + 2(\\sqrt{g h_\\ell} + \\sqrt{g h_r}) \\right]^2.\n",
    "$$\n",
    "With this in hand we can easily calculate $u_m$."
   ]
  },
  {
   "cell_type": "markdown",
   "metadata": {
    "slideshow": {
     "slide_type": "slide"
    }
   },
   "source": [
    "## Solving the General Dam-Break Problem\n",
    "\n",
    "Finally let's consider the dam-break problem originally discussed.  Here we expect a rarefaction and shock in the 1 and 2 characteristic families respectively if $h_\\ell > h_r$.  We will focus on this case for simplicity."
   ]
  },
  {
   "cell_type": "markdown",
   "metadata": {
    "slideshow": {
     "slide_type": "subslide"
    }
   },
   "source": [
    "First let's start with the value across the 1-wave rarefaction.  We know that the state connecting $q_\\ell$ and $q_m$ must lie on the integral curve and therefore is governed by\n",
    "$$\n",
    "    u_m = u_\\ell + 2 (\\sqrt{g h_\\ell} - \\sqrt{g h_m}).\n",
    "$$\n",
    "\n",
    "Similarly we know that $q_m$ must also lie on the same Hugoniot locus as $q_r$ such that\n",
    "$$\n",
    "    u_m = u_r + (h_m - h_r) \\sqrt{\\frac{g}{2} \\left( \\frac{1}{h_m} + \\frac{1}{h_r} \\right)}.\n",
    "$$\n",
    "\n",
    "As before we can combine these equations together to find one nonlinear equation for $h_m$\n",
    "$$\n",
    "    u_\\ell + 2 (\\sqrt{g h_\\ell} - \\sqrt{g h_m}) = u_r + (h_m - h_r) \\sqrt{\\frac{g}{2} \\left( \\frac{1}{h_m} + \\frac{1}{h_r} \\right)}.\n",
    "$$\n",
    "\n",
    "At this point we really cannot do anything in general but use a numerical solver.  Sometimes there are symmetries and simplifications that may make this equation easier to solve and often practical solvers will take advantage of this."
   ]
  },
  {
   "cell_type": "markdown",
   "metadata": {
    "slideshow": {
     "slide_type": "subslide"
    }
   },
   "source": [
    "One final point that is worthwhile noting, often times the Hugoniot loci and and integral curves are very similar but not usually identical.  If they are identical this is a special type of system called a **Temple-class system** and is a subject of some study."
   ]
  },
  {
   "cell_type": "markdown",
   "metadata": {
    "slideshow": {
     "slide_type": "slide"
    }
   },
   "source": [
    "## The General Riemann Solver for Shallow Water\n",
    "\n",
    "Now that we have considered most of the different situations we can find ourselves in for the shallow water equations let's now consider a more general approach to solving the problem."
   ]
  },
  {
   "cell_type": "markdown",
   "metadata": {
    "slideshow": {
     "slide_type": "subslide"
    }
   },
   "source": [
    "One useful construct for solving the general Riemann problem is to define the following functions\n",
    "$$\n",
    "    \\phi_\\ell = \\left \\{ \\begin{aligned}\n",
    "        u_\\ell + 2 (\\sqrt{g h_\\ell} - \\sqrt{g h}) & & \\text{if } h < h_\\ell \\\\\n",
    "        u_\\ell - (h - h_\\ell) \\sqrt{\\frac{g}{2} \\left( \\frac{1}{h} + \\frac{1}{h_\\ell} \\right ) } & & \\text{if } h > h_\\ell\n",
    "    \\end{aligned} \\right .\n",
    "$$\n",
    "and\n",
    "$$\n",
    "    \\phi_r = \\left \\{ \\begin{aligned}\n",
    "        u_r - 2 (\\sqrt{g h_r} - \\sqrt{g h}) & & \\text{if } h < h_r \\\\\n",
    "        u_r + (h - h_r) \\sqrt{\\frac{g}{2} \\left( \\frac{1}{h} + \\frac{1}{h_r} \\right ) } & & \\text{if } h > h_r\n",
    "    \\end{aligned} \\right ..\n",
    "$$\n",
    "This allows us to simply look at the values of the depth and apply the correct function to find the middle state $q_m$ effectively building in an entropy condition."
   ]
  }
 ],
 "metadata": {
  "celltoolbar": "Slideshow",
  "kernelspec": {
   "display_name": "Python 3",
   "language": "python",
   "name": "python3"
  },
  "language_info": {
   "codemirror_mode": {
    "name": "ipython",
    "version": 3
   },
   "file_extension": ".py",
   "mimetype": "text/x-python",
   "name": "python",
   "nbconvert_exporter": "python",
   "pygments_lexer": "ipython3",
   "version": "3.7.4"
  }
 },
 "nbformat": 4,
 "nbformat_minor": 2
}
