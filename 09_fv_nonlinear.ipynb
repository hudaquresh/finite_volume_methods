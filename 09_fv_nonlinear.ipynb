{
 "cells": [
  {
   "cell_type": "markdown",
   "metadata": {
    "slideshow": {
     "slide_type": "skip"
    }
   },
   "source": [
    "<table>\n",
    " <tr align=left><td><img align=left src=\"./images/CC-BY.png\">\n",
    " <td>Text provided under a Creative Commons Attribution license, CC-BY. All code is made available under the FSF-approved MIT license. (c) Kyle T. Mandli</td>\n",
    "</table>"
   ]
  },
  {
   "cell_type": "code",
   "execution_count": null,
   "metadata": {
    "slideshow": {
     "slide_type": "skip"
    }
   },
   "outputs": [],
   "source": [
    "from __future__ import print_function\n",
    "\n",
    "%matplotlib inline\n",
    "\n",
    "import numpy\n",
    "import matplotlib.pyplot as plt\n",
    "import matplotlib.animation\n",
    "\n",
    "from IPython.display import HTML\n",
    "from clawpack import pyclaw\n",
    "from clawpack import riemann"
   ]
  },
  {
   "cell_type": "markdown",
   "metadata": {
    "slideshow": {
     "slide_type": "slide"
    }
   },
   "source": [
    "# Finite Volume Methods for Nonlinear Systems"
   ]
  },
  {
   "cell_type": "markdown",
   "metadata": {
    "slideshow": {
     "slide_type": "slide"
    }
   },
   "source": [
    "## Godunov's Method\n",
    "\n",
    "Recall that our goal is to evolve the cell-averages\n",
    "$$\n",
    "    Q^n_i \\approx \\frac{1}{\\Delta x} \\int^{x_{i+1/2}}_{x_{i-1/2}} q(x, t_n) dx\n",
    "$$\n",
    "using a piecewise reconstruction $\\widetilde{q}^n(x, t_n)$ using these cell-averages and evolving these functions using the conservation law.\n",
    "\n",
    "Solving (evolving) over time $\\Delta t$ with this data gives us the function $\\widetilde{q}^n(x, t_{n+1})$ leading to\n",
    "$$\n",
    "    Q^{n+1}_i = \\frac{1}{\\Delta x} \\int^{x_{i+1/2}}_{x_{i-1/2}} \\widetilde{q}^n(x, t_{n+1}) dx\n",
    "$$."
   ]
  },
  {
   "cell_type": "markdown",
   "metadata": {
    "slideshow": {
     "slide_type": "subslide"
    }
   },
   "source": [
    "The final component of Godunov's method suggests that we do not need the entire Riemann solution but only need the solution along the cell-interface $x_{i-1/2}$ such that\n",
    "$$\n",
    "    Q^{n+1}_i = Q^n_i - \\frac{\\Delta t}{\\Delta x} (F^n_{i+1/2} - F^n_{i-1/2})\n",
    "$$\n",
    "where\n",
    "$$\n",
    "    F^n_{i-1/2} = \\mathcal{F}(Q^n_{i-1}, Q^n_i) = f(\\widehat{q}(Q^n_{i-1}, Q^n_i)\n",
    "$$\n",
    "where $\\widehat{q}(Q^n_{i-1}, Q^n_i)$ is the Riemann solution evaluated along $x/t = 0$."
   ]
  },
  {
   "cell_type": "markdown",
   "metadata": {
    "slideshow": {
     "slide_type": "subslide"
    }
   },
   "source": [
    "Godunov's method can also be implemented in wave-propagation form\n",
    "$$\n",
    "    Q^{n+1}_i = Q^n_i - \\frac{\\Delta t}{\\Delta x} (\\mathcal{A}^+ \\Delta Q_{i-1/2} + \\mathcal{A}^- \\Delta Q_{i+1/2}),\n",
    "$$\n",
    "which takes the fluxes to be\n",
    "$$\\begin{aligned}\n",
    "    \\mathcal{A}^- \\Delta Q_{i-1/2} &= f(\\widehat{Q}_{i-1/2}) - f(Q_{i-1}) \\\\\n",
    "    \\mathcal{A}^+ \\Delta Q_{i-1/2} &= f(Q_{i}) - f(\\widehat{Q}_{i-1/2}).\n",
    "\\end{aligned}$$"
   ]
  },
  {
   "cell_type": "markdown",
   "metadata": {
    "slideshow": {
     "slide_type": "subslide"
    }
   },
   "source": [
    "The primary note of importance now is that all we need for Godunov's method is what the solution along the grid cell edge is rather than the full Riemann solution we have been working with.  This strongly suggests that there may be ways to use approximate Riemann solvers that give us only what we need and are less expensive."
   ]
  },
  {
   "cell_type": "markdown",
   "metadata": {
    "slideshow": {
     "slide_type": "slide"
    }
   },
   "source": [
    "## Convergence of Godunov's Method\n",
    "\n",
    "It also useful at this point to review what we know about the convergence of Godunov's method that we showed before."
   ]
  },
  {
   "cell_type": "markdown",
   "metadata": {
    "slideshow": {
     "slide_type": "subslide"
    }
   },
   "source": [
    "1. The Lax-Wendroff theorem implies that for nonlinear systems of conservation laws, if we have a sequence of numerical approximations representing grid refinement that this sequence will converge in the appropriate sense to a function $q(x,t)$ and that this functions is a weak solution of the conservation law.  This is unfortunately not true in general for the nonconservative form of the equations."
   ]
  },
  {
   "cell_type": "markdown",
   "metadata": {
    "slideshow": {
     "slide_type": "subslide"
    }
   },
   "source": [
    "2. Entropy conditions will allow us to pick out the correct weak solution and if we employ Riemann solvers that obey the appropriate Entropy conditions that the overall method will also pick out the entropy satisfying solution."
   ]
  },
  {
   "cell_type": "markdown",
   "metadata": {
    "slideshow": {
     "slide_type": "subslide"
    }
   },
   "source": [
    "3. The Lax-Wendroff theorem unfortunately does not guarantee convergence, rather it only says *if* a sequence converges that it converges to a weak solution of the conservation law.  Showing convergence requires a form of stability for which we used TV-stability before.  Unfortunately TV-stability cannot be extended as is to the system case."
   ]
  },
  {
   "cell_type": "markdown",
   "metadata": {
    "slideshow": {
     "slide_type": "slide"
    }
   },
   "source": [
    "## Approximate Riemann Solvers\n",
    "\n",
    "We now will start to discuss the idea that perhaps we only need a small part of the full Riemann solution if we are interested in using Godunov's methods.  In particular, if $\\widehat{q}(q_\\ell, q_r)$ is the general, full solution to a Riemann problem that we only need to know the state along $x/t = 0$.  This usually implies that we need to compute one of the middle states $q_m$ of the Riemann solution although this is highly dependent on wave speeds and criticality conditions."
   ]
  },
  {
   "cell_type": "markdown",
   "metadata": {
    "slideshow": {
     "slide_type": "subslide"
    }
   },
   "source": [
    "Define a function\n",
    "$$\n",
    "    \\widehat{Q}_{i-1/2}(x/t)\n",
    "$$\n",
    "that approximates the true similarity solution of the Riemann problem with input data $Q_{i-1}$ and $Q_i$.  This approximation will generally depend on some set of jumps in $Q$ where\n",
    "$$\n",
    "    Q_i - Q_{i-1} = \\sum^{M_w}_{p=1} \\mathcal{W}^p_{i-1/2}\n",
    "$$\n",
    "where now we are allowed to pick out how many waves $M_w$ represent the approximation."
   ]
  },
  {
   "cell_type": "markdown",
   "metadata": {
    "slideshow": {
     "slide_type": "subslide"
    }
   },
   "source": [
    "Generalizing Godunov's method to systems then we could take two different approaches to defining the fluctuations:\n",
    "1. Define the numerical flux by\n",
    "$$\n",
    "    F_{i-1/2} = f(\\widehat{Q}_{i-1/2})\n",
    "$$\n",
    "where\n",
    "$$\n",
    "    \\widehat{Q}_{i-1/2} = Q_{i-1} + \\sum_{p:s^p_{i-1/2} < 0} \\mathcal{W}^p_{i-1/2}.\n",
    "$$\n",
    "In other words the state that lies along $x/t = 0$.  We can also go the other direction so that\n",
    "$$\n",
    "    \\widehat{Q}_{i-1/2} = Q_{i} - \\sum_{p:s^p_{i-1/2} > 0} \\mathcal{W}^p_{i-1/2}.\n",
    "$$\n",
    "Therefore the fluctuations are \n",
    "$$\\begin{aligned}\n",
    "    \\mathcal{A}^- \\Delta Q_{i-1/2} &= f(\\widehat{Q}_{i-1/2}) - f(Q_{i-1}) \\\\\n",
    "    \\mathcal{A}^+ \\Delta Q_{i-1/2} &= f(Q_{i}) - f(\\widehat{Q}_{i-1/2}) \\\\\n",
    "\\end{aligned}$$\n",
    "1. Use the waves and speeds to define\n",
    "$$\\begin{aligned}\n",
    "    \\mathcal{A}^- \\Delta Q_{i-1/2} &= \\sum^{M_w}_{p=1} (s^p_{i-1/2})^- \\mathcal{W}^p_{i-1/2} \\\\\n",
    "    \\mathcal{A}^+ \\Delta Q_{i-1/2} &= \\sum^{M_w}_{p=1} (s^p_{i-1/2})^+ \\mathcal{W}^p_{i-1/2} \\\\\n",
    "\\end{aligned}$$"
   ]
  },
  {
   "cell_type": "markdown",
   "metadata": {
    "slideshow": {
     "slide_type": "subslide"
    }
   },
   "source": [
    "The important realization here is that both of these approaches are the same for the all-shock Riemann solution.  This also implies that unless we have a transonic rarefaction, i.e. a rarefaction fan contains $x/t = 0$ we do not need to worry about what the exact type of wave is but rather what middle state contains $x/t = 0$."
   ]
  },
  {
   "cell_type": "markdown",
   "metadata": {
    "slideshow": {
     "slide_type": "subslide"
    }
   },
   "source": [
    "### Linearized Riemann Solvers\n",
    "\n",
    "Probably the most natural way to find an approximate Riemann solver is to find some linearization of the problem that is appropriate for the conservation law such that for $q_t + f(q)_x = 0$ we can instead locally solve\n",
    "$$\n",
    "    \\widehat{q}_t + \\widehat{A}_{i-1/2} \\widehat{q}_x = 0\n",
    "$$\n",
    "such that the matrix $\\widehat{A}_{i-1/2}$ as an appropriate approximation to $f'(q)$ valid in the neighborhood of $x_{i-1/2}$.  We also need to require that $\\widehat{A}_{i-1/2}$ is diagonalizable with real eigenvalues so that we can have some sense that\n",
    "$$\n",
    "    \\widehat{A}_{i-1/2} \\rightarrow f'(\\overline{q}) \\quad \\text{as } Q_{i-1}, Q_i \\rightarrow \\overline{q}\n",
    "$$\n",
    "for consistency."
   ]
  },
  {
   "cell_type": "markdown",
   "metadata": {
    "slideshow": {
     "slide_type": "subslide"
    }
   },
   "source": [
    "One of the reasons that we expect this to work is that for most Riemann solutions the shocks are well isolated.  This implies that the difference from one cell to another\n",
    "$$\n",
    "    ||Q_i - Q_{i-1}|| = \\mathcal{O}(\\Delta x)\n",
    "$$\n",
    "as long as the jump is not large and therefore\n",
    "$$\n",
    "    f'(Q_{i-1}) \\approx f'(Q_i).\n",
    "$$"
   ]
  },
  {
   "cell_type": "markdown",
   "metadata": {
    "slideshow": {
     "slide_type": "subslide"
    }
   },
   "source": [
    "We also know that if $||Q_i - Q_{i-1}|| = \\mathcal{O}(\\Delta x)$ that we expect that the Hugoniot loci and integral curves are similar to the eigenvectors of the system."
   ]
  },
  {
   "cell_type": "markdown",
   "metadata": {
    "slideshow": {
     "slide_type": "subslide"
    }
   },
   "source": [
    "The solution would then be similar to the linear hyperbolic systems we have studied before with the waves determined by the eigenvectors $\\widehat{r}^p_{i-1/2}$ and speeds $s^p_{i-1/2} = \\widehat{\\lambda}^p_{i-1/2}$.  This also allows us to easily identify the waves as\n",
    "$$\n",
    "    Q_i - Q_{i-1} = \\sum^m_{p=1} \\alpha^p_{i-1/2} \\widehat{r}^p_{i-1/2}\n",
    "$$\n",
    "and therefore\n",
    "$$\n",
    "    \\mathcal{W}^p_{i-1/2} = \\alpha^p_{i-1/2} \\widehat{r}^p_{i-1/2}.\n",
    "$$"
   ]
  },
  {
   "cell_type": "markdown",
   "metadata": {
    "slideshow": {
     "slide_type": "subslide"
    }
   },
   "source": [
    "There are of course multiple ways to form this linearized approximation.  In general we could use\n",
    "$$\n",
    "    \\widehat{A}_{i-1/2} = f'(\\overline{Q}_{i-1/2})\n",
    "$$\n",
    "where $\\overline{Q}_{i-1/2}$ is some appropriate \"average state\" dependent on $Q_i$ and $Q_{i-1}$.\n",
    "\n",
    " - What \"average state\" would you propose?\n",
    " - What properties of the solution might not work in general?"
   ]
  },
  {
   "cell_type": "markdown",
   "metadata": {
    "slideshow": {
     "slide_type": "subslide"
    }
   },
   "source": [
    "The most obvious average is the true average of the values\n",
    "$$\n",
    "    \\overline{Q}_{i-1/2} = \\frac{1}{2} (Q_i + Q_{i-1}).\n",
    "$$\n",
    "Although this is consistent this does not imply that the method is consistent unless some form of \n",
    "$$\n",
    "    \\widehat{Q}_{i-1/2} = Q_{i-1} + \\sum_{p:s^p_{i-1/2} < 0} \\mathcal{W}^p_{i-1/2}\n",
    "$$\n",
    "and \n",
    "$$\\begin{aligned}\n",
    "    \\mathcal{A}^- \\Delta Q_{i-1/2} &= f(\\widehat{Q}_{i-1/2}) - f(Q_{i-1}) \\\\\n",
    "    \\mathcal{A}^+ \\Delta Q_{i-1/2} &= f(Q_{i}) - f(\\widehat{Q}_{i-1/2}) \\\\\n",
    "\\end{aligned}$$\n",
    "are satisfied.  Unfortunately\n",
    "$$\\begin{aligned}\n",
    "    \\mathcal{A}^- \\Delta Q_{i-1/2} &= \\sum^{M_w}_{p=1} (s^p_{i-1/2})^- \\mathcal{W}^p_{i-1/2} \\\\\n",
    "    \\mathcal{A}^+ \\Delta Q_{i-1/2} &= \\sum^{M_w}_{p=1} (s^p_{i-1/2})^+ \\mathcal{W}^p_{i-1/2} \\\\\n",
    "\\end{aligned}$$\n",
    "does not guarantee conservation unless we add an additional condition."
   ]
  },
  {
   "cell_type": "markdown",
   "metadata": {
    "slideshow": {
     "slide_type": "subslide"
    }
   },
   "source": [
    "The primary condition we need to ensure for conservation is actually\n",
    "$$\n",
    "    f(Q_i) - f(Q_{i-1}) = \\sum^{M_w}_{p=1} s^p_{i-1/2} \\mathcal{W}^p_{i-1/2},\n",
    "$$\n",
    "which in general is not satisfied for many different forms of $\\overline{Q}_{i-1/2}$."
   ]
  },
  {
   "cell_type": "markdown",
   "metadata": {
    "slideshow": {
     "slide_type": "subslide"
    }
   },
   "source": [
    "Averaging $Q$ values is not the only approach, why not average the flux values with\n",
    "$$\n",
    "    \\widehat{A}_{i-1/2} = \\frac{1}{2}[f'(Q_{i-1}) + f'(Q_i)]\n",
    "$$\n",
    "or perhaps some other average of Jacobian evaluations.  Unfortunately this also does not satisfy the jump in fluxes previously mentioned unless care is taken."
   ]
  },
  {
   "cell_type": "markdown",
   "metadata": {
    "slideshow": {
     "slide_type": "subslide"
    }
   },
   "source": [
    "### Roe Linearization\n",
    "\n",
    "One of the keys to providing a robust linearization is to put some conditions on the linearization and its eigenspace.  The first of these is:\n",
    "\n",
    "> If $Q_{i-1}$ and $Q_i$ are connected by a single wave $\\mathcal{W}^p = Q_i - Q_{i-1}$ in the true Riemann solution, then $\\mathcal{W}^p$ should also be an eigenvector of $\\widehat{A}_{i-1/2}$.\n",
    "\n",
    "If this is true then the approximation will consist of a single wave that agrees with the exact Riemann solution with the strongest solution."
   ]
  },
  {
   "cell_type": "markdown",
   "metadata": {
    "slideshow": {
     "slide_type": "subslide"
    }
   },
   "source": [
    "Another way to say this is that if $Q_i$ and $Q_{i-1}$ are connected by a single wave, then\n",
    "$$\n",
    "    f(Q_i) - f(Q_{i-1}) = s (Q_i - Q_{i-1}).\n",
    "$$\n",
    "If the linearized problem also has this form then\n",
    "$$\n",
    "    \\widehat{A}_{i-1/2} (Q_i - Q_{i-1}) = s (Q_i - Q_{i-1})\n",
    "$$\n",
    "implying\n",
    "$$\n",
    "    \\widehat{A}_{i-1/2} (Q_i - Q_{i-1}) = f(Q_i) - f(Q_{i-1}).\n",
    "$$\n",
    "If this last expression is true then an approximate solver of this form is in fact conservative."
   ]
  },
  {
   "cell_type": "markdown",
   "metadata": {
    "slideshow": {
     "slide_type": "subslide"
    }
   },
   "source": [
    "This can also be shown via\n",
    "$$\n",
    "    \\mathcal{A}^- \\Delta Q_{i-1/2} + \\mathcal{A}^+ \\Delta Q_{i-1/2} = f(Q_i) - f(Q_{i-1}),\n",
    "$$\n",
    "which is implied by the above condition.  Consequently the condition\n",
    "$$\n",
    "    \\widehat{A}_{i-1/2} (Q_i - Q_{i-1}) = f(Q_i) - f(Q_{i-1})\n",
    "$$\n",
    "is often called **Roe's Condition**."
   ]
  },
  {
   "cell_type": "markdown",
   "metadata": {
    "slideshow": {
     "slide_type": "subslide"
    }
   },
   "source": [
    "The practical side of this is that we need to find an average that satisfies this condition.  One way to do this is to think of the problem as finding a path through state space connecting $Q_i$ and $Q_{i-1}$ parameterized by\n",
    "$$\n",
    "    q(\\xi) = Q_{i-1} + (Q_i - Q_{i-1}) \\xi\n",
    "$$\n",
    "for $\\xi \\in [0, 1]$ and require it satisfy Roe's condition."
   ]
  },
  {
   "cell_type": "markdown",
   "metadata": {
    "slideshow": {
     "slide_type": "subslide"
    }
   },
   "source": [
    "Writing this out we then have\n",
    "$$\\begin{aligned}\n",
    "    f(Q_i) - f(Q_{i-1}) &= \\int^1_0 \\frac{\\text{d}}{\\text{d} \\xi} f(q(\\xi)) d\\xi \\\\\n",
    "    &= \\int^1_0 f'(q(\\xi)) q'(\\xi) d\\xi \\\\\n",
    "    &= \\left[ \\int^1_0 f'(q(\\xi)) d\\xi \\right ] (Q_i - Q_{i-1}).\n",
    "\\end{aligned}$$"
   ]
  },
  {
   "cell_type": "markdown",
   "metadata": {
    "slideshow": {
     "slide_type": "subslide"
    }
   },
   "source": [
    "Recalling that we need \n",
    "$$\n",
    "    \\widehat{A}_{i-1/2} (Q_i - Q_{i-1}) = f(Q_i) - f(Q_{i-1})\n",
    "$$\n",
    "this implies that \n",
    "$$\n",
    "    f(Q_i) - f(Q_{i-1}) = \\left[ \\int^1_0 f'(q(\\xi)) d\\xi \\right ] (Q_i - Q_{i-1})\n",
    "$$\n",
    "gives us\n",
    "$$\n",
    "    \\widehat{A}_{i-1/2} = \\int^1_0 f'(q(\\xi)) d\\xi.\n",
    "$$"
   ]
  },
  {
   "cell_type": "markdown",
   "metadata": {
    "slideshow": {
     "slide_type": "subslide"
    }
   },
   "source": [
    "This unfortunately does not guarantee that the resulting matrix $\\widehat{A}_{i-1/2}$ is diagonalizable with real eigenvalues.  The integral itself can also be difficult to evaluate leaving us wanting a better approach."
   ]
  },
  {
   "cell_type": "markdown",
   "metadata": {
    "slideshow": {
     "slide_type": "subslide"
    }
   },
   "source": [
    "Instead Roe proposed a **parameter vector** $z(q)$, effectively a change of variables, that leads not only to easier evaluation of the integrals but also to evaluations that satisfies properties that we want."
   ]
  },
  {
   "cell_type": "markdown",
   "metadata": {
    "slideshow": {
     "slide_type": "subslide"
    }
   },
   "source": [
    "Here we now will integrate along the path\n",
    "$$\n",
    "    z(\\xi) = Z_{i-1} + (Z_i - Z_{i-1}) \\xi\n",
    "$$\n",
    "where $Z_j = z(Q_j)$ for $j=i-1, i$ and therefore $z'(\\xi) = Z_i - Z_{i-1}$ that is independent of $\\xi$.  This implies\n",
    "$$\\begin{aligned}\n",
    "    f(Q_i) - f(Q_{i-1}) &= \\int^1_0 \\frac{\\text{d}}{\\text{d} \\xi} f(z(\\xi)) d\\xi \\\\\n",
    "    &= \\int^1_0 f'(z(\\xi)) z'(\\xi) d\\xi \\\\\n",
    "    &= \\left[ \\int^1_0 f'(z(\\xi)) d\\xi \\right ] (Z_i - Z_{i-1}).\n",
    "\\end{aligned}$$"
   ]
  },
  {
   "cell_type": "markdown",
   "metadata": {
    "slideshow": {
     "slide_type": "subslide"
    }
   },
   "source": [
    "This expression we hope is easier to evaluate but we have no idea what this expression $z(\\xi)$ really is yet.  We can find this by rewriting $z(q)$ as\n",
    "$$\\begin{aligned}\n",
    "    f(Q_i) - f(Q_{i-1}) &= \\widehat{C}_{i-1/2} (Z_i - Z_{i-1}) \\\\\n",
    "    Q_i - Q_{i-1} &= \\widehat{B}_{i-1/2} (Z_i - Z_{i-1})\n",
    "\\end{aligned}$$\n",
    "and therefore observing\n",
    "$$\n",
    "    \\widehat{A}_{i-1/2} = \\widehat{C}_{i-1/2} \\widehat{B}^{-1}_{i-1/2}.\n",
    "$$"
   ]
  },
  {
   "cell_type": "markdown",
   "metadata": {
    "slideshow": {
     "slide_type": "subslide"
    }
   },
   "source": [
    "Harten and Lax showed that this approach will always be able to produce $\\widehat{A}_{i-1/2}$ if the system has a convex entropy.  One can actually also then choose $z(q) = \\eta'(q)$.\n",
    "\n",
    "This being true we still want to ensure that the integrals of interest are easily evaluated, which is best shown by an example. "
   ]
  },
  {
   "cell_type": "markdown",
   "metadata": {
    "slideshow": {
     "slide_type": "subslide"
    }
   },
   "source": [
    "#### Example:  Roe Solver for Shallow Water\n",
    "\n",
    "$$\n",
    "    q = \\begin{bmatrix} h \\\\ hu \\end{bmatrix} = \\begin{bmatrix} q^1 \\\\ q^2 \\end{bmatrix} \\quad f(q) = \\begin{bmatrix} hu \\\\ hu^2 + \\frac{1}{2} gh^2 \\end{bmatrix} = \\begin{bmatrix} q^2 \\\\ \\frac{q^2}{(q^1)^2} + \\frac{1}{2} g (q^1)^2 \\end{bmatrix}\n",
    "$$\n",
    "and\n",
    "$$\n",
    "    f'(q) = \\begin{bmatrix}\n",
    "        0 & 1 \\\\\n",
    "        -\\left(\\frac{q^2}{q^1} \\right)^2 + g q^1 & 2 \\frac{q^2}{q^1}\n",
    "    \\end{bmatrix} = \\begin{bmatrix}\n",
    "        0 & 1 \\\\\n",
    "        -u^2 + g h & 2 u\n",
    "    \\end{bmatrix}\n",
    "$$\n",
    "\n",
    "Choose the parameterization as\n",
    "$$\n",
    "    z = h^{-1/2} q \\quad \\Rightarrow \\quad \\begin{bmatrix} z^1 \\\\ z^2 \\end{bmatrix} = \\begin{bmatrix} \\sqrt{h} \\\\ u \\sqrt{h} \\end{bmatrix}\n",
    "$$\n",
    "\n",
    "See if you can carry this parameterization though and find $\\widehat{A}_{i-1/2}$."
   ]
  },
  {
   "cell_type": "markdown",
   "metadata": {
    "slideshow": {
     "slide_type": "subslide"
    }
   },
   "source": [
    "Taking\n",
    "$$\n",
    "q(z) = \\begin{bmatrix}\n",
    "    (z^1)^2 \\\\ z^1 z^2\n",
    "    \\end{bmatrix} \\quad \\Rightarrow \\quad \n",
    "    \\frac{\\partial q}{\\partial z} = \\begin{bmatrix}\n",
    "        2z^1 & 0 \\\\\n",
    "        z^2 & z^1\n",
    "    \\end{bmatrix}\n",
    "$$\n",
    "and therefore\n",
    "$$\n",
    "    f(z) = \\begin{bmatrix}\n",
    "        z^1 z^2 \\\\\n",
    "        (x^2)^2 + \\frac{1}{2} g (z^1)^4\n",
    "    \\end{bmatrix} \\quad \\Rightarrow \\quad \\frac{\\partial}{\\partial z} f(z) = \\begin{bmatrix}\n",
    "        z^2 & z^1 \\\\\n",
    "        2 g (z^1)^3 & 2 z^2\n",
    "    \\end{bmatrix}\n",
    "$$"
   ]
  },
  {
   "cell_type": "markdown",
   "metadata": {
    "slideshow": {
     "slide_type": "subslide"
    }
   },
   "source": [
    "We now need to integrate from $\\xi = 0 \\ldots 1$ where\n",
    "$$\n",
    "    z^p = Z^p_{i-1} + (Z^p_i - Z^p_{i-1}) \\xi.\n",
    "$$\n",
    "At this point all of our traverses through state space are linear except for one but we are still considering polynomials."
   ]
  },
  {
   "cell_type": "markdown",
   "metadata": {
    "slideshow": {
     "slide_type": "subslide"
    }
   },
   "source": [
    "Integrating the linear terms in our integrals leads us to\n",
    "$$\n",
    "    \\int^1_0 z^p(\\xi) d\\xi = \\frac{1}{2} (Z^p_{i-1} + Z^p_{i}) \\equiv \\overline{Z}^p,\n",
    "$$\n",
    "clearly just the average of the states of the transformed quantities $z(q)$.\n",
    "\n",
    "Integrating the higher order terms we have\n",
    "$$\\begin{aligned}\n",
    "    \\int^1_0 (z^1(\\xi))^3 d\\xi &= \\frac{1}{4} \\left( \\frac{(Z^1_i)^4 - (Z^1_{i-1})^4}{Z^1_i - Z^1_{i-1}} \\right) \\\\\n",
    "    &= \\frac{1}{2}(Z^1_{i-1} + Z^1_i) \\cdot \\frac{1}{2} \\left [ (Z^1_{i-1})^2 + (Z^1_i)^2 \\right ] \\\\\n",
    "    &= \\overline{Z}^1 \\overline{h},\n",
    "\\end{aligned}$$\n",
    "where\n",
    "$$\n",
    "    \\overline{h} = \\frac{1}{2} (h_{i-1} + h_i).\n",
    "$$"
   ]
  },
  {
   "cell_type": "markdown",
   "metadata": {
    "slideshow": {
     "slide_type": "subslide"
    }
   },
   "source": [
    "From this we obtain\n",
    "$$\n",
    "    \\widehat{B}_{i-1/2} = \\begin{bmatrix}\n",
    "        2 \\overline{Z}^1 & 0 \\\\\n",
    "        \\overline{Z}^2 & \\overline{Z}^1\n",
    "    \\end{bmatrix}\n",
    "$$\n",
    "and\n",
    "$$\n",
    "    \\widehat{C}_{i-1/2} = \\begin{bmatrix}\n",
    "        \\overline{Z}^2 & \\overline{Z}^1 \\\\\n",
    "        2 g \\overline{Z}^1 \\overline{h} & 2 \\overline{Z}^2\n",
    "    \\end{bmatrix}.\n",
    "$$"
   ]
  },
  {
   "cell_type": "markdown",
   "metadata": {
    "slideshow": {
     "slide_type": "subslide"
    }
   },
   "source": [
    "$$\n",
    "    \\widehat{B}_{i-1/2} = \\begin{bmatrix}\n",
    "        2 \\overline{Z}^1 & 0 \\\\\n",
    "        \\overline{Z}^2 & \\overline{Z}^1\n",
    "    \\end{bmatrix} \\quad \\quad\n",
    "    \\widehat{C}_{i-1/2} = \\begin{bmatrix}\n",
    "        \\overline{Z}^2 & \\overline{Z}^1 \\\\\n",
    "        2 g \\overline{Z}^1 \\overline{h} & 2 \\overline{Z}^2\n",
    "    \\end{bmatrix}\n",
    "$$\n",
    "\n",
    "Therefore\n",
    "$$\n",
    "    \\widehat{A}_{i-1/2} = \\widehat{C}_{i-1/2} \\widehat{C}^{-1}_{i-1/2} = \\begin{bmatrix}\n",
    "        0 & 1 \\\\\n",
    "        -\\left(\\frac{\\overline{Z}^2}{\\overline{Z}^1} \\right)^2 + g \\overline{h} & 2 \\frac{\\overline{Z}^2}{\\overline{Z}^1}\n",
    "    \\end{bmatrix} = \\begin{bmatrix}\n",
    "        0 & 1\\\\\n",
    "        -\\widehat{u}^2 + g \\overline{h} & 2 \\widehat{u}\n",
    "    \\end{bmatrix}\n",
    "$$\n",
    "where\n",
    "$$\n",
    "    \\overline{h} = \\frac{1}{2} (h_{i-1} + h_i)\n",
    "$$\n",
    "and\n",
    "$$\n",
    "    \\widehat{u} = \\frac{\\overline{Z}^2}{\\overline{Z}^1} = \\frac{u_{i-1} \\sqrt{h_{i-1}} + u_i \\sqrt{h_i}}{\\sqrt{h_{i-1}} + \\sqrt{h_i}}\n",
    "$$"
   ]
  },
  {
   "cell_type": "markdown",
   "metadata": {
    "slideshow": {
     "slide_type": "subslide"
    }
   },
   "source": [
    "### Sonic Entropy Fixes\n",
    "\n",
    "One of the biggest drawbacks to a Roe linearized Riemann solver is that the solution formally only consists of shocks."
   ]
  },
  {
   "cell_type": "markdown",
   "metadata": {
    "slideshow": {
     "slide_type": "subslide"
    }
   },
   "source": [
    "Even in the scalar case the Roe condition can be satisfied by\n",
    "$$\n",
    "    \\widehat{\\mathcal{A}}_{i-1/2} = \\frac{f(Q_i) - f(Q_{i-1})}{Q_i - Q_{i-1}}\n",
    "$$\n",
    "where here $\\widehat{\\mathcal{A}}_{i-1/2}$ is a scalar.  This is of course the shock speed.\n",
    "\n",
    "As mentioned before numerically this is only a problem for transonic rarefactions where\n",
    "$$\n",
    "    f'(q_\\ell) < 0 < f'(q_r)\n",
    "$$\n",
    "for the scalar case (these are of course the edges of the rarefaction wave).\n",
    "The same holds true for systems of equations when a particular wave is a transonic rarefaction."
   ]
  },
  {
   "cell_type": "markdown",
   "metadata": {
    "slideshow": {
     "slide_type": "subslide"
    }
   },
   "source": [
    "For the shallow water equations we can easily check if one of the two waves is a transonic rarefaction with the following computation:\n",
    "$$\\begin{aligned}\n",
    "    \\lambda^1_{i-1} = u_{i-1} - \\sqrt{g h_{i-1}} & & \\lambda^1_m = u_m - \\sqrt{g h_m} \\\\\n",
    "    \\lambda^2_{m} = u_{m} - \\sqrt{g h_{m}} & & \\lambda^2_i = u_i - \\sqrt{g h_i}.\n",
    "\\end{aligned}$$\n",
    "Similar to the previous condition if any of these values in a row are separated by zero then we know we have a transonic rarefaction.\n",
    "\n",
    "The biggest impediment to using these conditions is that we need to know $q_m$."
   ]
  },
  {
   "cell_type": "markdown",
   "metadata": {
    "slideshow": {
     "slide_type": "subslide"
    }
   },
   "source": [
    "For simple systems this may not be too hard a burden as we know that if there is a transonic rarefaction there can be only one.  Assuming there is one we can use the simplification that we need to know $\\xi = x/t = 0$.  For instance in the 1-rarefaction case we know\n",
    "$$\\begin{aligned}\n",
    "    \\widehat{h}_{i-1/2} &= \\frac{\\left(u_{i-1} + 2 \\sqrt{g h_{i-1}} \\right)^2}{9g} \\\\\n",
    "    \\widehat{u}_{i-1/2} &= u_{i-1} - 2 \\left( \\sqrt{g h_{i-1}} - \\sqrt{g \\widehat{h}_{i-1/2}} \\right)\n",
    "\\end{aligned}$$"
   ]
  },
  {
   "cell_type": "markdown",
   "metadata": {
    "slideshow": {
     "slide_type": "subslide"
    }
   },
   "source": [
    "#### Harten-Hyman Entropy Fix\n",
    "\n",
    "A easier and more general approach to entropy fixes is due to Harten and Hyman and is generally the approach used in many Clawpack solvers.\n",
    "\n",
    "The principle approach is this, suppose that a transonic rarefaction exists in the $k$-family and therefore \n",
    "$$\n",
    "    \\lambda^k_\\ell < 0 < \\lambda^k_r\n",
    "$$ \n",
    "and with\n",
    "$$\\begin{aligned}\n",
    "    q^k_\\ell &= Q_{i-1} + \\sum^{k-1}_{p=1} \\mathcal{W}^p \\\\\n",
    "    q^k_r &= q_\\ell^k + \\mathcal{W}^k,\n",
    "\\end{aligned}$$\n",
    "in other words the state to the left and right of the rarefaction."
   ]
  },
  {
   "cell_type": "markdown",
   "metadata": {
    "slideshow": {
     "slide_type": "subslide"
    }
   },
   "source": [
    "Now replace the single wave $\\mathcal{W}^k$ propagating with speed $\\widehat{\\lambda}^l$ by two waves\n",
    "$$\n",
    "    \\mathcal{W}^k_\\ell = \\beta \\mathcal{W}^k \\quad \\mathcal{W}^k_r = (1 - \\beta) \\mathcal{W}^k\n",
    "$$\n",
    "propagating at speeds $\\lambda^k_\\ell$ and $\\lambda^k_r$ respectively.  Maintaining conservation requires\n",
    "$$\n",
    "    \\lambda^l_\\ell \\mathcal{W}^k_\\ell + \\lambda^k_r \\mathcal{W}^k_r = \\widehat{\\lambda}^k \\mathcal{W}^k\n",
    "$$\n",
    "and therefore\n",
    "$$\n",
    "    \\beta = \\frac{\\lambda^k_r - \\widehat{\\lambda}^k}{\\lambda^k_r - \\lambda^k_\\ell}.\n",
    "$$\n",
    "This amounts to splitting the wave into two pieces traveling to the left and right and therefore modifying the fluctuations $\\mathcal{A}^\\pm \\Delta Q$."
   ]
  },
  {
   "cell_type": "markdown",
   "metadata": {
    "slideshow": {
     "slide_type": "subslide"
    }
   },
   "source": [
    "#### Numerical Viscosity\n",
    "\n",
    "One way to view the entropy problem as mentioned before is that not enough viscosity is being introduced into the solution.  Numerical viscosity can solve this for us and we can modify Roe's linearization to account for this."
   ]
  },
  {
   "cell_type": "markdown",
   "metadata": {
    "slideshow": {
     "slide_type": "subslide"
    }
   },
   "source": [
    "The numerical flux for Roe's method is\n",
    "$$\\begin{aligned}\n",
    "    F_{i-1/2} &= \\frac{1}{2} [f(Q_{i-1}) + f(Q_i) ] - \\frac{1}{2} \\left | \\widehat{A}_{i-1/2} \\right | (Q_i - Q_{i-1}) \\\\\n",
    "    &=\\frac{1}{2} [f(Q_{i-1}) + f(Q_i) ] - \\frac{1}{2} \\sum_p \\left | \\widehat{\\lambda}^p_{i-1/2} \\right | \\mathcal{W}^p_{i-1/2}.\n",
    "\\end{aligned}$$\n",
    "The sum in the last expression can be looked upon as being a form of viscosity.\n",
    "\n",
    "If a transonic rarefaction is present then we expect that one of the eigenvalues $\\widehat{\\lambda}^p_{i-1/2}$ is very close to zero and the corresponding term in the last sum will see very little viscosity.  This is in fact often what we observe, a stationary shock where there should be none since the corresponding speed is identically zero."
   ]
  },
  {
   "cell_type": "code",
   "execution_count": null,
   "metadata": {
    "slideshow": {
     "slide_type": "skip"
    }
   },
   "outputs": [],
   "source": [
    "def true_solution(x, t):\n",
    "    if t > 0:\n",
    "        t_vec = t * numpy.ones(x.shape)\n",
    "        return (x < 0) * -numpy.ones(x.shape) + \\\n",
    "           (-t_vec < x) * (x <= 0) * (x / t_vec + 1) + \\\n",
    "           (0 <= x) * (x <= 2*t_vec) * x / t_vec + \\\n",
    "           (2 * t_vec <= x) * 2.0 * numpy.ones(x.shape)\n",
    "    else:\n",
    "        return (x < 0) * -numpy.ones(x.shape) + \\\n",
    "           (0.0 <= x) * 2.0 * numpy.ones(x.shape)\n",
    "\n",
    "def burgers_animation(order=2, efix=True):\n",
    "   \n",
    "    solver = pyclaw.ClawSolver1D(riemann.burgers_1D_py.burgers_1D)\n",
    "    solver.kernel_language = \"Python\"\n",
    "    \n",
    "    solver.limiters = pyclaw.limiters.tvd.MC\n",
    "    solver.bc_lower[0] = pyclaw.BC.extrap\n",
    "    solver.bc_upper[0] = pyclaw.BC.extrap\n",
    "    solver.order = order\n",
    "\n",
    "    x = pyclaw.Dimension(-3.0, 3.0, 50, name='x')\n",
    "    domain = pyclaw.Domain(x)\n",
    "    num_eqn = 1\n",
    "    state = pyclaw.State(domain, num_eqn)\n",
    "    xc = domain.grid.x.centers\n",
    "    state.q[0,:] = (xc < 0) * -numpy.ones(xc.shape) + 2.0 * (xc >= 0) * numpy.ones(xc.shape)\n",
    "    state.problem_data['efix'] = efix\n",
    "\n",
    "    claw = pyclaw.Controller()\n",
    "    claw.tfinal = 1.0\n",
    "    claw.num_output_times   = 10\n",
    "    claw.solution = pyclaw.Solution(state,domain)\n",
    "    claw.solver = solver\n",
    "\n",
    "    claw.keep_copy = True\n",
    "    claw.run()\n",
    "    x = claw.frames[0].grid.dimensions[0].centers\n",
    "    \n",
    "    fig = plt.figure()\n",
    "    axes = plt.subplot(1, 1, 1)\n",
    "    axes.set_xlim((x[0], x[-1]))\n",
    "    axes.set_ylim((-1.5, 2.5))\n",
    "    axes.set_title(\"Burgers Equation\")\n",
    "    \n",
    "    def init():\n",
    "        axes.set_xlim((x[0], x[-1]))\n",
    "        axes.set_ylim((-1.5, 2.5))\n",
    "        computed_line, = axes.plot(x[0], claw.frames[0].q[0, :][0], 'bo-')\n",
    "        true_line, = axes.plot(x[0], claw.frames[0].q[0, :][0], 'k-')\n",
    "        return (computed_line, true_line)\n",
    "    \n",
    "    computed_line, true_line = init()\n",
    "    \n",
    "    def fplot(n):\n",
    "        computed_line.set_data([x,], [claw.frames[n].q[0, :]])\n",
    "        true_line.set_data([x,], [true_solution(x, claw.frames[n].t)])\n",
    "        return (computed_line, true_line)\n",
    "\n",
    "    frames_to_plot = range(0, len(claw.frames))\n",
    "    plt.close(fig)\n",
    "    return matplotlib.animation.FuncAnimation(fig, fplot, frames=frames_to_plot, interval=100,\n",
    "                                   blit=True, init_func=init, repeat=False)"
   ]
  },
  {
   "cell_type": "code",
   "execution_count": null,
   "metadata": {
    "scrolled": true,
    "slideshow": {
     "slide_type": "subslide"
    }
   },
   "outputs": [],
   "source": [
    "HTML(burgers_animation(order=1, efix=False).to_jshtml())"
   ]
  },
  {
   "cell_type": "markdown",
   "metadata": {
    "slideshow": {
     "slide_type": "subslide"
    }
   },
   "source": [
    "If we implement the above idea instead using the wave-propagation formulation and $\\mathcal{A}^\\pm \\Delta Q$ we get an additional detail with the numerical flux written as\n",
    "$$\n",
    "    F_{i-1/2} = \\frac{1}{2} [f(Q_{i-1}) + f(Q_i) ] - \\frac{1}{2} \\sum_p \\left [ (\\widehat{\\lambda}^p_{i-1/2})^+ - (\\widehat{\\lambda}^p_{i-1/2})^- \\right ] \\mathcal{W}^p_{i-1/2}\n",
    "$$\n",
    "that allows us to apply the Harten-Hyman entropy fix."
   ]
  },
  {
   "cell_type": "markdown",
   "metadata": {
    "slideshow": {
     "slide_type": "subslide"
    }
   },
   "source": [
    "#### Harten's Entropy Fix\n",
    "\n",
    "Another entropy fix proposed by Harten is based on increasing the viscosity only by modifying the field that contains the eigenvalue that may be too close to zero.  This follows that we replace $|\\widehat{\\lambda}^p_{i-1/2})|$ by a limited value\n",
    "$$\n",
    "    \\phi_\\delta(\\widehat{\\lambda}^p_{i-1/2}))\n",
    "$$\n",
    "where\n",
    "$$\n",
    "    \\phi_\\delta(\\lambda) = \\left \\{ \\begin{aligned}\n",
    "    &|\\lambda| & & \\text{if } \\lambda \\geq \\delta \\\\\n",
    "    &\\frac{\\lambda^2 + \\delta^2}{2 \\delta} & & \\text{if } \\lambda < \\delta\n",
    "    \\end{aligned} \\right .\n",
    "$$\n",
    "which effectively changes the absolute value in the original Roe flux to be perturbed from zero.  Unfortunately this approach requires tuning the parameter $\\delta$ for each problem."
   ]
  },
  {
   "cell_type": "markdown",
   "metadata": {
    "slideshow": {
     "slide_type": "subslide"
    }
   },
   "source": [
    "### Failure of Linearized Solvers\n",
    "\n",
    "Linearized solvers can be a powerful way to reduce the computational cost of finite volume solvers but when might they go wrong?  \n",
    "\n",
    "One of the most common happens near \"vacuum states\", states where one of the conserved quantities goes to zero.  For the Euler equations this occurs when $\\rho \\rightarrow 0$ and in the shallow water equations when $h \\rightarrow 0$.  For both of these cases we require $\\rho, h \\geq 0$."
   ]
  },
  {
   "cell_type": "markdown",
   "metadata": {
    "slideshow": {
     "slide_type": "subslide"
    }
   },
   "source": [
    "So what goes wrong?  We have assumed that the eigenvectors will intersect somewhere similar to where the true Hugoniot loci or integral curves intersect."
   ]
  },
  {
   "cell_type": "markdown",
   "metadata": {
    "slideshow": {
     "slide_type": "subslide"
    }
   },
   "source": [
    "### HLL and HLLE Solvers\n",
    "\n",
    "Another approach to an approximate Riemann solver uses only two waves regardless of the true number of waves.  This involves estimating the waves that form the edges of the Riemann fan and using these waves with one intermediate state."
   ]
  },
  {
   "cell_type": "markdown",
   "metadata": {
    "slideshow": {
     "slide_type": "subslide"
    }
   },
   "source": [
    "Define the two waves now as\n",
    "$$\n",
    "    \\mathcal{W}^1_{i-1/2} = \\widehat{Q}_{i-1/2} - Q_{i-1} \\quad \\mathcal{W}^2_{i-1/2} = Q_{i} - \\widehat{Q}_{i-1/2}\n",
    "$$\n",
    "where $\\widehat{Q}_{i-1/2}$ is the middle state.  Requiring conservation we want these waves to satisfy\n",
    "$$\\begin{aligned}\n",
    "    f(Q_i) - f(Q_{i-1}) &= \\sum^2_{p=1} s^p_{i-1/2} \\mathcal{W}^p_{i-1/2} \\\\\n",
    "    &= s^1_{i-1/2} \\mathcal{W}^1_{i-1/2} + s^2_{i-1/2} \\mathcal{W}^2_{i-1/2} \\\\\n",
    "    &= s^1_{i-1/2} (\\widehat{Q}_{i-1/2} - Q_{i-1}) + s^2_{i-1/2} (Q_{i} - \\widehat{Q}_{i-1/2})\n",
    "\\end{aligned}$$\n",
    "implying\n",
    "$$\n",
    "    \\widehat{Q}_{i-1/2} = \\frac{f(Q_i) - f(Q_{i-1}) - s^2_{i-1/2} Q_i + s^1_{i-1/2} Q_{i-1}}{s^1_{i-1/2} - s^2_{i-1/2}}.\n",
    "$$\n",
    "This approach was originally suggested by Harten, Lax and Van Lear with Einfeldt suggesting a choice of $s^1$ and $s^2$ of\n",
    "$$\\begin{aligned}\n",
    "    s^1_{i-1/2} &= \\min_p \\left( \\min \\left(\\lambda^p_i, \\widehat{\\lambda}^p_{i-1/2} \\right ) \\right ) \\\\\n",
    "    s^2_{i-1/2} &= \\max_p \\left( \\max \\left(\\lambda^p_{i+1}, \\widehat{\\lambda}^p_{i-1/2} \\right ) \\right )\n",
    "\\end{aligned}$$\n",
    "where $\\lambda^p_j$ is the $p$th eigenvalue of the Jacobian $f'(Q_j)$ and $\\widehat{\\lambda}^p_{i-1/2}$ is the $p$th eigenvalue of the Roe average values."
   ]
  },
  {
   "cell_type": "markdown",
   "metadata": {
    "slideshow": {
     "slide_type": "subslide"
    }
   },
   "source": [
    "Note that this choice of speeds reduces to the Roe approximation when the waves chosen are shocks.  In the case where these are rarefactions these speeds will take the leading edge of the rarefaction.\n",
    "\n",
    "The fact however that we are only using two waves to represent the full Riemann fan has an obvious disadvantage if you want the details of the Riemann problem to be used."
   ]
  },
  {
   "cell_type": "markdown",
   "metadata": {
    "slideshow": {
     "slide_type": "slide"
    }
   },
   "source": [
    "## High-Resolution Methods\n",
    "\n",
    "We can also extend Godunov's method to the high-resolution methods already discussed and are essentially the same as for linear systems.  The method we studied already takes the form\n",
    "$$\n",
    "    Q^{n+1}_i = Q^n_i - \\frac{\\Delta t}{\\Delta x} \\left( \\mathcal{A}^-_{i+1/2} + \\mathcal{A}^+ \\Delta Q_{i-1/2} \\right )- \\frac{\\Delta t}{\\Delta x} \\left( \\widetilde{F}_{i+1/2} - \\widetilde{F}_{i-1/2} \\right )\n",
    "$$\n",
    "with\n",
    "$$\n",
    "    \\widetilde{F}_{i-1/2} = \\frac{1}{2} \\sum^{M_w}_{p=1} |s^p_{i-1/2} | \\left ( 1- \\frac{\\Delta t}{\\Delta x} |s^p_{i-1/2}| \\right) \\widetilde{\\mathcal{W}}^p_{i-1/2}\n",
    "$$\n",
    "where $\\widetilde{\\mathcal{W}}^p_{i-1/2}$ is a limited version of $\\mathcal{W}^p_{i-1/2}$."
   ]
  },
  {
   "cell_type": "markdown",
   "metadata": {
    "slideshow": {
     "slide_type": "slide"
    }
   },
   "source": [
    "There are several complications for nonlinear systems with this approach.  For shock waves the general approach still works but if a wave is a rarefaction the definition of the speed is less clear.  In practice \n",
    "$$\n",
    "    s^p = \\frac{1}{2} (\\lambda^p_\\ell + \\lambda^p_r)\n",
    "$$\n",
    "is often used."
   ]
  },
  {
   "cell_type": "markdown",
   "metadata": {
    "slideshow": {
     "slide_type": "slide"
    }
   },
   "source": [
    "The limiters can also be problematic as waves from neighboring grid cells edges may not be collinear so it is not clear that comparing the magnitude of these vectors is not clearly the right thing to do.  This similar to variable-coefficient linear systems and can be addressed similarly.\n",
    "\n",
    "In `clawpack` the general approach is to project the neighboring waves onto the wave being limited to obtain a vector that can be directly compared."
   ]
  },
  {
   "cell_type": "code",
   "execution_count": null,
   "metadata": {
    "slideshow": {
     "slide_type": "skip"
    }
   },
   "outputs": [],
   "source": [
    "def shock_tube(riemann_solver, efix=False):\n",
    "    \n",
    "    solver = pyclaw.ClawSolver1D(riemann_solver)\n",
    "    solver.kernel_language = \"Python\"\n",
    "    \n",
    "    solver.num_waves = 3\n",
    "\n",
    "    solver.bc_lower[0] = pyclaw.BC.wall\n",
    "    solver.bc_upper[0] = pyclaw.BC.wall\n",
    "    \n",
    "    x = pyclaw.Dimension(-1.0, 1.0, 800, name='x')\n",
    "    domain = pyclaw.Domain([x])\n",
    "    state = pyclaw.State(domain, 3)\n",
    "\n",
    "    # Ratio of specific heats\n",
    "    gamma = 1.4\n",
    "    \n",
    "    state.problem_data['gamma'] = gamma\n",
    "    state.problem_data['gamma1'] = gamma - 1.0\n",
    "    state.problem_data['efix'] = efix\n",
    "    \n",
    "    x = state.grid.x.centers\n",
    "\n",
    "    rho_l = 1.; rho_r = 1./8\n",
    "    p_l = 1.; p_r = 0.1\n",
    "    state.q[0 ,:] = (x<0.)*rho_l + (x>=0.)*rho_r\n",
    "    state.q[1,:] = 0.\n",
    "    velocity = state.q[1, :] / state.q[0,:]\n",
    "    pressure = (x<0.)*p_l + (x>=0.)*p_r\n",
    "    state.q[2  ,:] = pressure / (gamma - 1.) + 0.5 * state.q[0,:] * velocity**2\n",
    "\n",
    "    claw = pyclaw.Controller()\n",
    "    claw.tfinal = 0.4\n",
    "    claw.solution = pyclaw.Solution(state,domain)\n",
    "    claw.solver = solver\n",
    "    claw.num_output_times = 10\n",
    "    claw.keep_copy = True\n",
    "    \n",
    "    claw.run()\n",
    "\n",
    "    fig, axes = plt.subplots(1, 2)\n",
    "    fig.set_figwidth(fig.get_figwidth() * 2)\n",
    "    \n",
    "    def init():\n",
    "        density_line, = axes[0].plot(x[0], claw.frames[0].q[0, :][0], 'k')\n",
    "        axes[0].set_title(r\"Density $\\rho$\")\n",
    "        axes[0].set_xlim((-1, 1))\n",
    "        axes[0].set_ylim((-0.1, 1.25))\n",
    "        energy_line, = axes[1].plot(x[0], claw.frames[0].q[2, :][0], 'k')\n",
    "        axes[1].set_title(r\"Energy $E$\")\n",
    "        axes[1].set_xlim((-1, 1))\n",
    "        axes[1].set_ylim((-0.1, 4.0))\n",
    "        \n",
    "        return (density_line, energy_line)\n",
    "    \n",
    "    density_line, energy_line = init()\n",
    "    \n",
    "    def fplot(n):\n",
    "        density_line.set_data([x,], [claw.frames[n].q[0, :]])\n",
    "        energy_line.set_data([x,], [claw.frames[n].q[2, :]])\n",
    "        axes[0].set_title(r\"$\\rho$ at $t = %s$\" % claw.frames[n].t)\n",
    "        axes[1].set_title(r\"$E$ at $t = %s$\" % claw.frames[n].t)\n",
    "        return (density_line, energy_line)\n",
    "\n",
    "    frames_to_plot = range(0, len(claw.frames))\n",
    "    plt.close(fig)\n",
    "    return matplotlib.animation.FuncAnimation(fig, fplot, frames=frames_to_plot, interval=100,\n",
    "                                   blit=True, init_func=init, repeat=False)\n",
    "\n",
    "HTML(shock_tube(riemann.euler_1D_py.euler_hllc_1D, efix=True).to_jshtml())"
   ]
  },
  {
   "cell_type": "code",
   "execution_count": null,
   "metadata": {
    "slideshow": {
     "slide_type": "skip"
    }
   },
   "outputs": [],
   "source": [
    "def woodward_colella_blast(riemann_solver):\n",
    "    \n",
    "    solver = pyclaw.ClawSolver1D(riemann_solver)\n",
    "    solver.kernel_language = \"Python\"\n",
    "    \n",
    "    solver.num_waves = 3\n",
    "    solver.limiters = 4\n",
    "\n",
    "    solver.bc_lower[0] = pyclaw.BC.wall\n",
    "    solver.bc_upper[0] = pyclaw.BC.wall\n",
    "    \n",
    "    x = pyclaw.Dimension(0.0, 1.0, 800, name='x')\n",
    "    domain = pyclaw.Domain([x])\n",
    "    state = pyclaw.State(domain, 3)\n",
    "\n",
    "    # Ratio of specific heats\n",
    "    gamma = 1.4\n",
    "    state.problem_data['gamma'] = gamma\n",
    "    state.problem_data['gamma1'] = gamma - 1.0\n",
    "    \n",
    "    x = state.grid.x.centers\n",
    "    state.q[0, :] = 1.0\n",
    "    state.q[1, :] = 0.0\n",
    "    state.q[2, :] = (  (x < 0.1) * 1.e3 \n",
    "                     + (0.1 <= x) * (x < 0.9) * 1.e-2 \n",
    "                     + (0.9 <= x) * 1.e2 ) / (gamma - 1.0)\n",
    "\n",
    "    claw = pyclaw.Controller()\n",
    "    claw.tfinal = 0.05\n",
    "    claw.solution = pyclaw.Solution(state,domain)\n",
    "    claw.solver = solver\n",
    "    claw.num_output_times = 20\n",
    "    claw.keep_copy = True\n",
    "    \n",
    "    claw.run()\n",
    "\n",
    "    fig, axes = plt.subplots(1, 2)\n",
    "    fig.set_figwidth(fig.get_figwidth() * 2)\n",
    "    \n",
    "    axes[0].set_title(r\"Density $\\rho$\")\n",
    "    axes[0].set_xlim((0, 1))\n",
    "    axes[0].set_ylim((-0.1, 15.0))\n",
    "    axes[1].set_title(r\"Energy $E$\")\n",
    "    axes[1].set_xlim((0, 1))\n",
    "    axes[1].set_ylim((-0.1, 2600.0))\n",
    "    \n",
    "    def init():\n",
    "        density_line, = axes[0].plot(x[0], claw.frames[0].q[0, :][0], 'k')\n",
    "        axes[0].set_title(r\"Density $\\rho$\")\n",
    "        axes[0].set_xlim((0, 1))\n",
    "        axes[0].set_ylim((-0.1, 15.0))\n",
    "        energy_line, = axes[1].plot(x[0], claw.frames[0].q[2, :][0], 'k')\n",
    "        axes[1].set_title(r\"Energy $E$\")\n",
    "        axes[1].set_xlim((0, 1))\n",
    "        axes[1].set_ylim((-0.1, 2600.0))\n",
    "        \n",
    "        return (density_line, energy_line)\n",
    "    \n",
    "    density_line, energy_line = init()\n",
    "    \n",
    "    def fplot(n):\n",
    "        density_line.set_data([x,], [claw.frames[n].q[0, :]])\n",
    "        energy_line.set_data([x,], [claw.frames[n].q[2, :]])\n",
    "        axes[0].set_title(r\"$\\rho$ at $t = %s$\" % claw.frames[n].t)\n",
    "        axes[1].set_title(r\"$E$ at $t = %s$\" % claw.frames[n].t)\n",
    "        return (density_line, energy_line)\n",
    "\n",
    "    frames_to_plot = range(0, len(claw.frames))\n",
    "    plt.close(fig)\n",
    "    return matplotlib.animation.FuncAnimation(fig, fplot, frames=frames_to_plot, interval=100,\n",
    "                                   blit=True, init_func=init, repeat=False)\n",
    "\n",
    "# HTML(woodward_colella_blast(riemann.euler_1D_py.euler_roe_1D).to_jshtml())\n",
    "# HTML(woodward_colella_blast(riemann.euler_1D_py.euler_hll_1D).to_jshtml())\n",
    "HTML(woodward_colella_blast(riemann.euler_1D_py.euler_hllc_1D).to_jshtml())"
   ]
  },
  {
   "cell_type": "markdown",
   "metadata": {
    "slideshow": {
     "slide_type": "slide"
    }
   },
   "source": [
    "## Alternative Wave-Propagation Implementations for Approximate Riemann Solvers\n",
    "\n",
    "A sometimes useful alternative approach to splitting the jump $Q_i - Q_{i-1}$ into waves is to instead split the jump in the fluxes with\n",
    "$$\n",
    "    f(Q_i) - f(Q_{i-1}) = \\sum^{M_w}_{p=1} \\mathcal{Z}^p_{i-1/2}.\n",
    "$$\n",
    "This alternative is useful in developing approximate solvers, handling source terms, and showing second order accuracy."
   ]
  },
  {
   "cell_type": "markdown",
   "metadata": {
    "slideshow": {
     "slide_type": "subslide"
    }
   },
   "source": [
    "The advantage of this approach to linearized solvers is that we are automatically satisfying Roe's condition.  Assuming we have a linearized problem we can then project the jump in fluxes onto the eigenspace\n",
    "$$\n",
    "    f(Q_i) - f(Q_{i-1}) = \\sum^m_{p=1} \\beta^p_{i-1/2} \\widehat{r}^p_{i-1/2}\n",
    "$$\n",
    "and then defining the **f-waves** as\n",
    "$$\n",
    "    \\mathcal{Z}^p_{i-1/2} = \\beta^p_{i-1/2} \\widehat{r}^p_{i-1/2}.\n",
    "$$\n",
    "We can also define the fluctuations as\n",
    "$$\\begin{aligned}\n",
    "    &\\widehat{\\mathcal{A}}^- \\Delta Q_{i-1/2} = \\sum_{p:s^p_{i-1/2} < 0} \\mathcal{Z}^p_{i-1/2} \\\\\n",
    "    &\\widehat{\\mathcal{A}}^+ \\Delta Q_{i-1/2} = \\sum_{p:s^p_{i-1/2} > 0} \\mathcal{Z}^p_{i-1/2}\n",
    "\\end{aligned}$$\n",
    "Implying that Roe's method is satisfied regardless of the linearization employed.  For example the arithmetic average defined linearization\n",
    "$$\n",
    "    \\widehat{\\mathcal{A}}_{i-1/2} = f'\\left(\\frac{1}{2}(Q_{i} + Q_{i-1})\\right)\n",
    "$$\n",
    "will produce a conservative method where as the original wave-propagation method may not."
   ]
  },
  {
   "cell_type": "markdown",
   "metadata": {
    "slideshow": {
     "slide_type": "subslide"
    }
   },
   "source": [
    "We can also relate the types of waves, if all speeds $s^p_{i-1/2}$ are nonzero then\n",
    "$$\n",
    "    \\mathcal{W}^p_{i-1/2} = \\frac{1}{s^p_{i-1/2}} \\mathcal{Z}^p_{i-1/2}.\n",
    "$$"
   ]
  },
  {
   "cell_type": "markdown",
   "metadata": {
    "slideshow": {
     "slide_type": "subslide"
    }
   },
   "source": [
    "The second order correction terms are also slightly different.  The flux used should not be\n",
    "$$\n",
    "    \\widetilde{F}_{i-1/2} = \\frac{1}{2} \\sum^{M_w}_{p=1} \\text{sgn}(s^p_{i-1/2}) \\left( 1- \\frac{\\Delta t}{\\Delta x} |s^p_{i-1/2}| \\right) \\widetilde{\\mathcal{Z}}^p_{i-1/2}.\n",
    "$$"
   ]
  },
  {
   "cell_type": "markdown",
   "metadata": {
    "slideshow": {
     "slide_type": "slide"
    }
   },
   "source": [
    "## Second-Order Accuracy\n",
    "\n",
    "One thing we have not yet discussed is whether the method we have proposed is truly second-order accurate for smooth solutions when limiters are not used.  We know that the scalar theory does imply this but does it extend to systems?"
   ]
  },
  {
   "cell_type": "markdown",
   "metadata": {
    "slideshow": {
     "slide_type": "subslide"
    }
   },
   "source": [
    "First we must compute the local truncation error keeping in mind we are assuming that the solution is smooth at this time.  We will of course use Taylor series for this and desire to replace some of the terms of \n",
    "$$\n",
    "    q(x_i, t_{n+1}) = q(x_i, t_n) - \\Delta t f(q)_x + \\frac{\\Delta t^2}{2} q(x_i, t_n)_{tt} + \\mathcal{O}(\\Delta t^3).\n",
    "$$\n",
    "\n",
    "\n",
    "For the conservation law we can compute the second time derivative so that\n",
    "$$\\begin{aligned}\n",
    "    q_t & = -f(q)_x \\\\\n",
    "    q_{tt} &= -(f'(q) q_t)_x = [f'(q) f(q)_x]_x\n",
    "\\end{aligned}$$\n",
    "implying that\n",
    "$$\n",
    "    q(x_i, t_{n+1}) = q(x_i, t_n) - \\Delta t f(q)_x + \\frac{\\Delta t^2}{2} [f'(q) f(q)_x]_x + \\mathcal{O}(\\Delta t^3).\n",
    "$$"
   ]
  },
  {
   "cell_type": "markdown",
   "metadata": {
    "slideshow": {
     "slide_type": "subslide"
    }
   },
   "source": [
    "We now assume that the method uses the f-wave approach, splitting the jump in fluxes\n",
    "$$\n",
    "    f(Q_i) - f(Q_{i-1}) = \\sum^m_{p=1} \\mathcal{Z}^p_{i-1/2}\n",
    "$$\n",
    "where $\\mathcal{Z}^p_{i-1/2}$ are assumed to be eigenvectors of some matrix $\\widehat{A}_{i-1/2}(Q_i, Q_{i-1})$.  We will also use the definition\n",
    "$$\n",
    "    \\mathcal{Z}^p_{i-1/2} = s^p_{i-1/2} \\mathcal{W}^p_{i-1/2}\n",
    "$$\n",
    "to relate this to the original wave-propagation method."
   ]
  },
  {
   "cell_type": "markdown",
   "metadata": {
    "slideshow": {
     "slide_type": "subslide"
    }
   },
   "source": [
    "We must now make a couple of assumption about the consistency of $\\widehat{A}_{i-1/2}$ with the Jacobian.  This takes the form of\n",
    "$$\n",
    "    \\widehat{A}_{i-1/2}(q(x), q(x + \\Delta x)) = f'(q(x + \\Delta x / 2)) + E(x, \\Delta x)\n",
    "$$\n",
    "where the error satisfies\n",
    "$$\n",
    "    E(x, \\Delta x) = \\mathcal{O}(\\Delta x)\n",
    "$$\n",
    "and\n",
    "$$\n",
    "    \\frac{E(x + \\Delta x, \\Delta x) - E(x, \\Delta x)}{\\Delta x} = \\mathcal{O}(\\Delta x).\n",
    "$$\n",
    "\n",
    "In the end we then want\n",
    "$$\n",
    "    \\widehat{A}(q(x), q(x + \\Delta x)) = f'(q(x + \\Delta x/2)) + \\mathcal{O}(\\Delta x^2)\n",
    "$$\n",
    "and therefore we can choose\n",
    "$$\n",
    "    \\widehat{A}(Q_{i}, Q_{i-1}) = f'(\\widehat{Q}_{i-1/2}).\n",
    "$$\n",
    "Note that this also implies that $\\widehat{A}$ need only be a first order accurate approximation to $f'(q)$ at the midpoint."
   ]
  },
  {
   "cell_type": "markdown",
   "metadata": {
    "slideshow": {
     "slide_type": "subslide"
    }
   },
   "source": [
    "Now for the fun part, writing out the update in all of its \"glory\":\n",
    "$$\\begin{aligned}\n",
    "    Q^{n+1}_i &= Q^n_i - \\frac{\\Delta t}{\\Delta x} \\left[ \\sum_{p:s^p_{i-1/2} > 0} \\mathcal{Z}^p_{i-1/2} + \\sum_{p:s^p_{i-1/2} > 0} \\mathcal{Z}^p_{i+1/2} \\right] - \\frac{\\Delta t}{2 \\Delta x} \\left[ \\sum^m_{p=1} \\text{sgn}(s^p_{i+1/2}) \\left(1 - \\frac{\\Delta t}{\\Delta x} |s^p_{i+1/2}| \\right) \\mathcal{Z}^p_{i+1/2}  - \\sum^m_{p=1} \\text{sgn}(s^p_{i-1/2}) \\left(1 - \\frac{\\Delta t}{\\Delta x} |s^p_{i-1/2}| \\right) \\mathcal{Z}^p_{i-1/2}\\right] \\\\\n",
    "    &= Q^n_i - \\frac{\\Delta t}{2 \\Delta x} \\left[ \\sum^m_{p=1} \\mathcal{Z}^p_{i-1/2} + \\sum_{p=1} \\mathcal{Z}^p_{i+1/2} \\right] + \\frac{\\Delta t^2}{2 \\Delta x^2} \\left[\\sum_{p=1} s^p_{i+1/2} \\mathcal{Z}^p_{i+1/2} -  \\sum^m_{p=1} s^p_{i-1/2} \\mathcal{Z}^p_{i-1/2} \\right] \\\\\n",
    "    &= Q^n_i - \\frac{\\Delta t}{2 \\Delta x} \\left[ \\sum^m_{p=1} \\mathcal{Z}^p_{i-1/2} + \\sum_{p=1} \\mathcal{Z}^p_{i+1/2} \\right] + \\frac{\\Delta t^2}{2 \\Delta x^2} \\left[ \\widehat{A}_{i+1/2} \\sum_{p=1} \\mathcal{Z}^p_{i+1/2} -  \\widehat{A}_{i-1/2}  \\sum^m_{p=1}\\mathcal{Z}^p_{i-1/2} \\right].\n",
    "\\end{aligned}$$"
   ]
  },
  {
   "cell_type": "markdown",
   "metadata": {
    "slideshow": {
     "slide_type": "subslide"
    }
   },
   "source": [
    "Using the continuity assumption then leads to \n",
    "$$\n",
    "    Q^{n+1}_i = Q^n_i - \\frac{\\Delta t}{2 \\Delta x} [f(Q_{i+1}) - f(Q_{i-1})] - \\frac{\\Delta t^2}{2 \\Delta x^2} \\left \\{ \\widehat{A}_{i+1/2} [f(Q_{i+1}) - f(Q_i)] - \\widehat{A}_{i-1/2} [f(Q_i) - f(Q_{i-1})] \\right \\},\n",
    "$$\n",
    "which agrees with the Taylor series\n",
    "$$\n",
    "    q(x_i, t_{n+1}) = q(x_i, t_n) - \\Delta t f(q)_x + \\frac{\\Delta t^2}{2} [f'(q) f(q)_x]_x + \\mathcal{O}(\\Delta t^3).\n",
    "$$\n",
    "to the required accuracy."
   ]
  },
  {
   "cell_type": "markdown",
   "metadata": {
    "slideshow": {
     "slide_type": "slide"
    }
   },
   "source": [
    "## Total Variation for Systems\n",
    "\n",
    "As mentioned previously the notion of TV-stability cannot naturally be extended to systems and therefore there is no proof that even Godunov's method converges for general systems of nonlinear conservation laws.  The situation is actually worse than that, in general there is no proof of an existence of a solution for general nonlinear systems.  It bears therefore some merit in delving into what has been done and why TV-stability fails in this situation."
   ]
  },
  {
   "cell_type": "markdown",
   "metadata": {
    "slideshow": {
     "slide_type": "subslide"
    }
   },
   "source": [
    "One might try to define TV for a system as the following:\n",
    "$$\n",
    "    TV(q) = \\sup \\sum^N_{j=1} ||q(\\xi_j) - q(\\xi_{j-1})||\n",
    "$$\n",
    "with some arbitrary discretization of the domain.  If we restrict our attention to piecewise constant grid functions on the full real-line then this reduces to\n",
    "$$\n",
    "    TV(Q) = \\sum^\\infty_{i=-\\infty} ||Q_i - Q_{i-1}||.\n",
    "$$\n",
    "We could hope that if the above definitions hold that we could prove a similar type of stability and therefore convergence.\n",
    "\n",
    "However we run into a problem as the true solution itself is not TVD.  In fact we can choose initial conditions that can cause the TV(Q) to arbitrarily grow (but finite)."
   ]
  },
  {
   "cell_type": "code",
   "execution_count": null,
   "metadata": {
    "slideshow": {
     "slide_type": "skip"
    }
   },
   "outputs": [],
   "source": [
    "def swe_rp(h, u=[0.0, 0.0], N=100, ylimits=((0.0, 3.5), (-0.5, 2))):\n",
    "   \n",
    "    solver = pyclaw.ClawSolver1D(riemann.shallow_1D_py.shallow_fwave_1d)\n",
    "    solver.kernel_language = \"Python\"\n",
    "    \n",
    "    solver.num_waves = 2\n",
    "    solver.num_eqn = 2\n",
    "    solver.fwave = True\n",
    "    solver.limiters = [pyclaw.limiters.tvd.MC,\n",
    "                       pyclaw.limiters.tvd.MC]\n",
    "    solver.bc_lower[0] = pyclaw.BC.extrap\n",
    "    solver.bc_upper[0] = pyclaw.BC.extrap\n",
    "    solver.aux_bc_lower[0] = pyclaw.BC.extrap\n",
    "    solver.aux_bc_upper[0] = pyclaw.BC.extrap\n",
    "\n",
    "    x = pyclaw.Dimension(-5.0, 5.0, N, name='x')\n",
    "    domain = pyclaw.Domain(x)\n",
    "    state = pyclaw.State(domain, 2, 1)\n",
    "    xc = domain.grid.x.centers\n",
    "    state.q[0,:] = h[0] * (xc < 0) * numpy.ones(xc.shape) + h[1] * (xc >= 0) * numpy.ones(xc.shape)\n",
    "    state.q[1,:] = u[0] * (xc < 0) * numpy.ones(xc.shape) + u[1] * (xc >= 0) * numpy.ones(xc.shape)\n",
    "    state.q[1,:] *= state.q[0, :]\n",
    "    state.aux[0, :] = numpy.zeros(xc.shape)\n",
    "    \n",
    "    state.problem_data['grav'] = 1.0\n",
    "    state.problem_data['dry_tolerance'] = 1e-3\n",
    "    state.problem_data['sea_level'] = 0.0\n",
    "    \n",
    "    claw = pyclaw.Controller()\n",
    "    claw.tfinal = 2.0\n",
    "    claw.num_output_times = 10\n",
    "    claw.solution = pyclaw.Solution(state,domain)\n",
    "    claw.solver = solver\n",
    "\n",
    "    claw.keep_copy = True\n",
    "    claw.run()\n",
    "    x = claw.frames[0].grid.dimensions[0].centers\n",
    "    \n",
    "    fig, axes = plt.subplots(1, 2)\n",
    "    fig.set_figwidth(fig.get_figwidth() * 2)\n",
    "    axes[0].set_xlim((x[0], x[-1]))\n",
    "    axes[0].set_ylim(ylimits[0])\n",
    "    axes[0].set_title(r\"$h$\")\n",
    "    axes[1].set_xlim((x[0], x[-1]))\n",
    "    axes[1].set_ylim(ylimits[1])\n",
    "    axes[1].set_title(r\"$hu$\")\n",
    "\n",
    "    def init():\n",
    "        axes[0].set_xlim((x[0], x[-1]))\n",
    "        axes[0].set_ylim(ylimits[0])\n",
    "        h_line, = axes[0].plot(x[0], claw.frames[0].q[0, :][0], 'bo-')\n",
    "        axes[1].set_xlim((x[0], x[-1]))\n",
    "        axes[1].set_ylim(ylimits[1])\n",
    "        hu_line, = axes[1].plot(x[0], claw.frames[0].q[1, :][0], 'bo-')\n",
    "        \n",
    "        return (h_line, hu_line)\n",
    "    \n",
    "    h_line, hu_line = init()\n",
    "    \n",
    "    def fplot(n):\n",
    "        h_line.set_data([x,], [claw.frames[n].q[0, :]])\n",
    "        hu_line.set_data([x,], [claw.frames[n].q[1, :]])\n",
    "        axes[0].set_title(r\"$h$ at $t = %s$\" % claw.frames[n].t)\n",
    "        axes[1].set_title(r\"$hu$ at $t = %s$\" % claw.frames[n].t)\n",
    "        return (h_line, hu_line)\n",
    "\n",
    "    frames_to_plot = range(0, len(claw.frames))\n",
    "    plt.close(fig)\n",
    "    return matplotlib.animation.FuncAnimation(fig, fplot, frames=frames_to_plot, interval=100,\n",
    "                                   blit=True, init_func=init, repeat=False)\n",
    "\n",
    "HTML(swe_rp(h=[1, 1], u=[1, -1], ylimits=((0, 2.6), (-1.1, 1.1))).to_jshtml())"
   ]
  },
  {
   "cell_type": "markdown",
   "metadata": {
    "slideshow": {
     "slide_type": "subslide"
    }
   },
   "source": [
    "### Total Variation Estimates for Linear Systems\n",
    "\n",
    "Even for linear systems this problem exists.  Consider an acoustics problem with $p_\\ell = p_r$ and $u_\\ell = -u_r > 0$.  This is similar to the shallow water problem illustrated above.  Despite this we can prove convergence for linear systems, so what is the difference?"
   ]
  },
  {
   "cell_type": "markdown",
   "metadata": {
    "slideshow": {
     "slide_type": "subslide"
    }
   },
   "source": [
    "The primary answer to this is that we can find a transformation that separates out each characteristic field via diagonalization.  Consider for instance Godunov's method for a linear system\n",
    "$$\n",
    "    Q^{n+1}_i = Q^n_i - \\frac{\\Delta t}{\\Delta x} [A^+(Q^n_i - Q^n_{i-1}) + A^- (Q^n_{i+1} - Q^n_i)].\n",
    "$$\n",
    "Multiplying by $R^{-1}$ and again defining the characteristic variables as $W^n_i = R^{-1} Q^n_i$ leads to\n",
    "$$\n",
    "    W^{n+1}_i = W^n_i - \\frac{\\Delta t}{\\Delta x}[\\Lambda^+(W^n_i - W^n_{i-1}) + \\Lambda^-(W^n_{i+1} - W^n_i)],\n",
    "$$\n",
    "which is a decoupled set of $m$ first-order upwind algorithms each of which is TVD and convergent."
   ]
  },
  {
   "cell_type": "markdown",
   "metadata": {
    "slideshow": {
     "slide_type": "subslide"
    }
   },
   "source": [
    "This might suggest that we define the total variation of $Q$ in terms of the characteristic variables rather than $Q$.  Defining this we have\n",
    "$$\n",
    "    ||Q||_W \\equiv ||R^{-1} Q||_1\n",
    "$$\n",
    "and we can therefore define a new version of TV:\n",
    "$$\\begin{aligned}\n",
    "    \\text{TV}_W(Q) &= \\sum^\\infty_{i=-\\infty} ||Q_i - Q_{i-1}||_W \\\\\n",
    "    &= \\sum^\\infty_{i=-\\infty} ||R^{-1} (Q_i - Q_{i-1})||_1 \\\\\n",
    "    &= \\sum^\\infty_{i=-\\infty} ||W_i - W_{i-1})||_1 \\\\\n",
    "    &= \\sum^\\infty_{i=-\\infty} \\sum^m_{p=1} |W^p_i - W^p_{i-1})| \\\\\n",
    "    &= \\sum^m_{p=1} \\text{TV}(W^p)\n",
    "\\end{aligned}$$"
   ]
  },
  {
   "cell_type": "markdown",
   "metadata": {
    "slideshow": {
     "slide_type": "subslide"
    }
   },
   "source": [
    "Using this definition we see that\n",
    "$$\n",
    "    \\text{TV}((W^p)^{n+1}) \\leq \\text{TV}((W^p)^n)\n",
    "$$\n",
    "and therefore\n",
    "$$\n",
    "    \\text{TV}_W(Q^{n+1}) \\leq \\text{TV}_W(Q^n)\n",
    "$$"
   ]
  },
  {
   "cell_type": "markdown",
   "metadata": {
    "slideshow": {
     "slide_type": "subslide"
    }
   },
   "source": [
    "### Wave-Strength Estimates for Nonlinear Systems\n",
    "\n",
    "So why does the definition from linear systems not carry over?  Beyond the fact that true solutions are not in general TVD we still may be able to say something.  For instance, what about the metric defined by\n",
    "$$\n",
    "    d_W(q_\\ell, q_r) \\equiv \\sum_p ||W^p||_1\n",
    "$$\n",
    "and therefore\n",
    "$$\n",
    "    \\text{TV}_W(Q) = \\sum_i d_W(Q_i, Q_{i-1}).\n",
    "$$\n",
    "Two difficulties arise:\n",
    "1. Again, the true solution will not have the function $\\text{TV}_W$ diminishing.  We saw this with Woodward-Colella test problem.\n",
    "1. The averaging operation in Godunov's method may introduce new solution states not present in the true solution."
   ]
  },
  {
   "cell_type": "markdown",
   "metadata": {
    "slideshow": {
     "slide_type": "subslide"
    }
   },
   "source": [
    "### Glimm's Random-Choice Method\n",
    "\n",
    "It seems a bit hopeless then that we can prove convergence for nonlinear systems of conservation laws.  There are however some famous results that are interesting in their implications.  One of these is called **Glimm's Random-Choice Method**."
   ]
  },
  {
   "cell_type": "markdown",
   "metadata": {
    "slideshow": {
     "slide_type": "subslide"
    }
   },
   "source": [
    "The basic steps of Glimm's method are the following:\n",
    "1. Godunov's method is followed except for the last averaging step.  Instead the value of $\\widetilde{q}^n(x,t_{n+1})$ is randomly sampled in each cell avoiding difficulty (2) mentioned above.\n",
    "1. A functional similar to the one defined before is used to measure the solution and then provide quadratic correction terms to handle future interaction between pairs of waves.\n",
    "\n",
    "This method does assume that the initial condition total variation is sufficiently constrained so does not include general initial conditions.  That being said this proof allows us to have some semblance of a proof of convergence.  Another result of Glimm's method is that for solutions with a discontinuity it proves that only this method can achieve formal first-order accuracy."
   ]
  }
 ],
 "metadata": {
  "celltoolbar": "Slideshow",
  "kernelspec": {
   "display_name": "Python 3",
   "language": "python",
   "name": "python3"
  },
  "language_info": {
   "codemirror_mode": {
    "name": "ipython",
    "version": 3
   },
   "file_extension": ".py",
   "mimetype": "text/x-python",
   "name": "python",
   "nbconvert_exporter": "python",
   "pygments_lexer": "ipython3",
   "version": "3.7.4"
  }
 },
 "nbformat": 4,
 "nbformat_minor": 2
}
